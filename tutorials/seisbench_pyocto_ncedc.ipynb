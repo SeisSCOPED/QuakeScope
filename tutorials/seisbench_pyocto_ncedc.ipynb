{
 "cells": [
  {
   "cell_type": "code",
   "execution_count": 1,
   "id": "c0bdf992-7fe5-40f4-a3db-5932909a3c28",
   "metadata": {
    "execution": {
     "iopub.execute_input": "2024-01-27T20:19:17.558355Z",
     "iopub.status.busy": "2024-01-27T20:19:17.558150Z",
     "iopub.status.idle": "2024-01-27T20:19:20.795546Z",
     "shell.execute_reply": "2024-01-27T20:19:20.794708Z",
     "shell.execute_reply.started": "2024-01-27T20:19:17.558332Z"
    }
   },
   "outputs": [],
   "source": [
    "import obspy\n",
    "from s3fs import S3FileSystem\n",
    "from tqdm.notebook import tqdm\n",
    "import matplotlib.pyplot as plt\n",
    "import seisbench.models as sbm\n",
    "import seisbench.util as sbu\n",
    "import pyocto\n",
    "import cartopy.crs as ccrs\n",
    "import datetime"
   ]
  },
  {
   "cell_type": "code",
   "execution_count": 2,
   "id": "09c00620-bb97-4465-8127-3a55fc22d768",
   "metadata": {
    "execution": {
     "iopub.execute_input": "2024-01-27T20:19:20.797551Z",
     "iopub.status.busy": "2024-01-27T20:19:20.797033Z",
     "iopub.status.idle": "2024-01-27T20:19:20.802711Z",
     "shell.execute_reply": "2024-01-27T20:19:20.801872Z",
     "shell.execute_reply.started": "2024-01-27T20:19:20.797527Z"
    }
   },
   "outputs": [],
   "source": [
    "fs = S3FileSystem(anon=True)"
   ]
  },
  {
   "cell_type": "code",
   "execution_count": 3,
   "id": "c6376980-dbba-4d56-80d6-c9c47d06f001",
   "metadata": {
    "execution": {
     "iopub.execute_input": "2024-01-27T20:19:20.803790Z",
     "iopub.status.busy": "2024-01-27T20:19:20.803551Z",
     "iopub.status.idle": "2024-01-27T20:19:21.159027Z",
     "shell.execute_reply": "2024-01-27T20:19:21.158323Z",
     "shell.execute_reply.started": "2024-01-27T20:19:20.803768Z"
    }
   },
   "outputs": [
    {
     "data": {
      "text/plain": [
       "['ncedc-pds/FDSNstationXML/',\n",
       " 'ncedc-pds/FDSNstationXML/BK',\n",
       " 'ncedc-pds/FDSNstationXML/BP',\n",
       " 'ncedc-pds/FDSNstationXML/NC',\n",
       " 'ncedc-pds/FDSNstationXML/NP']"
      ]
     },
     "execution_count": 3,
     "metadata": {},
     "output_type": "execute_result"
    }
   ],
   "source": [
    "fs.ls(\"ncedc-pds/FDSNstationXML/\")"
   ]
  },
  {
   "cell_type": "code",
   "execution_count": 4,
   "id": "356d5d09-f314-4404-ad5a-8ae2623f086c",
   "metadata": {
    "execution": {
     "iopub.execute_input": "2024-01-27T20:19:21.160317Z",
     "iopub.status.busy": "2024-01-27T20:19:21.160093Z",
     "iopub.status.idle": "2024-01-27T20:19:21.306207Z",
     "shell.execute_reply": "2024-01-27T20:19:21.305492Z",
     "shell.execute_reply.started": "2024-01-27T20:19:21.160293Z"
    }
   },
   "outputs": [],
   "source": [
    "stations = fs.ls(\"ncedc-pds/FDSNstationXML/BK\")[1:]"
   ]
  },
  {
   "cell_type": "markdown",
   "id": "832542b5-1143-43e7-9cc8-a86727fcfa97",
   "metadata": {},
   "source": [
    "## Load inventories"
   ]
  },
  {
   "cell_type": "code",
   "execution_count": 5,
   "id": "d1460c2a-09a6-4f0b-b9a0-1b832b3247c7",
   "metadata": {
    "execution": {
     "iopub.execute_input": "2024-01-27T20:19:21.308262Z",
     "iopub.status.busy": "2024-01-27T20:19:21.308037Z",
     "iopub.status.idle": "2024-01-27T20:21:57.211059Z",
     "shell.execute_reply": "2024-01-27T20:21:57.210256Z",
     "shell.execute_reply.started": "2024-01-27T20:19:21.308240Z"
    },
    "scrolled": true
   },
   "outputs": [
    {
     "data": {
      "application/vnd.jupyter.widget-view+json": {
       "model_id": "70f2a928376e4c6891b49b6cf6195534",
       "version_major": 2,
       "version_minor": 0
      },
      "text/plain": [
       "  0%|          | 0/185 [00:00<?, ?it/s]"
      ]
     },
     "metadata": {},
     "output_type": "display_data"
    }
   ],
   "source": [
    "inv = obspy.Inventory()\n",
    "for station in tqdm(stations):\n",
    "    with fs.open(station) as f:\n",
    "        inv += obspy.read_inventory(f)"
   ]
  },
  {
   "cell_type": "code",
   "execution_count": 6,
   "id": "54f3465e-4e6e-45f2-bbf0-94a8923f1363",
   "metadata": {
    "execution": {
     "iopub.execute_input": "2024-01-27T20:21:57.212361Z",
     "iopub.status.busy": "2024-01-27T20:21:57.212109Z",
     "iopub.status.idle": "2024-01-27T20:21:57.278742Z",
     "shell.execute_reply": "2024-01-27T20:21:57.278020Z",
     "shell.execute_reply.started": "2024-01-27T20:21:57.212335Z"
    }
   },
   "outputs": [
    {
     "data": {
      "text/plain": [
       "Inventory created at 2024-01-27T20:21:57.205413Z\n",
       "\tCreated by: ObsPy 1.4.0\n",
       "\t\t    https://www.obspy.org\n",
       "\tSending institution: NCEDC,ObsPy 1.4.0 (NCEDC)\n",
       "\tContains:\n",
       "\t\tNetworks (159):\n",
       "\t\t\tBK (159x)\n",
       "\t\tStations (300):\n",
       "\t\t\tBK.AASB (Rancho Murieta, CA)\n",
       "\t\t\tBK.ADAM (Adams Ridge, Knoxville, Napa County)\n",
       "\t\t\tBK.ALVW (Alview elementary school)\n",
       "\t\t\tBK.AONC (Abbey of New Clairvaux, Vina, CA)\n",
       "\t\t\tBK.ARC (Humboldt State University, Arcata, CA, USA)\n",
       "\t\t\tBK.ATP (Archer Taylor Preserve)\n",
       "\t\t\tBK.BABI (Babies Gulch, Panoche, CA)\n",
       "\t\t\tBK.BAKR (Baker Fire Station, Cottonwood, CA)\n",
       "\t\t\tBK.BARR (Barra Winery, Redwood Valley, CA)\n",
       "\t\t\tBK.BAYL (Bayliss; Glenn County)\n",
       "\t\t\tBK.BCCR (Big Chico Creek, Paradise, CA USA)\n",
       "\t\t\tBK.BDM (Black Diamond Mines Park, Antioch, CA, USA)\n",
       "\t\t\tBK.BIGV (Big Valley, Lassen County)\n",
       "\t\t\tBK.BJES (Bald Jesse, Humboldt County, CA)\n",
       "\t\t\tBK.BKS (Byerly Seismographic Vault, Berkeley, CA, USA) (2x)\n",
       "\t\t\tBK.BL67 (LBL Building 67, Berkeley, CA, USA)\n",
       "\t\t\tBK.BLAS (Black Lassic)\n",
       "\t\t\tBK.BLUE (Blue Mountain)\n",
       "\t\t\tBK.BONV (Bradford Ranch, Boonville, CA)\n",
       "\t\t\tBK.BOYR (Boyer?s Landing, near Robbins)\n",
       "\t\t\tBK.BRAD (Bradley, CA)\n",
       "\t\t\tBK.BRIB (Briones Reserve, Orinda, CA, USA) (2x)\n",
       "\t\t\tBK.BRIC (Briceland Vineyard, Redway, CA)\n",
       "\t\t\tBK.BRIT (Lake Britton)\n",
       "\t\t\tBK.BRK (Haviland Hall, Berkeley, CA, USA)\n",
       "\t\t\tBK.BUCI (Buck Institute, Novato)\n",
       "\t\t\tBK.BUCR (Buckhorn Flat Ranch, Coulterville, CA)\n",
       "\t\t\tBK.CCOR (Corcoran)\n",
       "\t\t\tBK.CGRV (Cedar Grove)\n",
       "\t\t\tBK.CLRV (Clear Lake Reservoir)\n",
       "\t\t\tBK.CMB (Columbia College, Columbia, CA, USA) (2x)\n",
       "\t\t\tBK.CVS (Carmenet Vineyards, Sonoma, CA, USA)\n",
       "\t\t\tBK.DANT (Paynes Creek, CA, USA)\n",
       "\t\t\tBK.DCMP (DeCamp, Mendocino County, CA)\n",
       "\t\t\tBK.DIAZ (Diaz Spring, Lassen County)\n",
       "\t\t\tBK.DLIK (Deerlick Springs, Shasta County, CA)\n",
       "\t\t\tBK.DMOR (Dinsmores, Humboldt County, CA)\n",
       "\t\t\tBK.DRDG (Dodge Ridge)\n",
       "\t\t\tBK.DRYC (Dry Creek Basin Area)\n",
       "\t\t\tBK.EAGL (Eagle Lake, Susanville, CA USA)\n",
       "\t\t\tBK.ELFS (Eagle Lake Biol. Field Stn., Susanville, CA, USA)\n",
       "\t\t\tBK.FARB (Farallon Islands, CA, USA)\n",
       "\t\t\tBK.FORD (Fort Ord Natural Reserve, Marina, CA)\n",
       "\t\t\tBK.GALB (Galbreath Preserve, Mendocino County, CA)\n",
       "\t\t\tBK.GASB (Alder Springs, CA, USA)\n",
       "\t\t\tBK.GCKB (Clark Valley)\n",
       "\t\t\tBK.GHOP (Grasshopper Mountain)\n",
       "\t\t\tBK.GRPK (Grizzly Peak)\n",
       "\t\t\tBK.GTSB (Trough Springs/Crackerbox Ridge, CA 95979)\n",
       "\t\t\tBK.GUMB (Gumboot Lake)\n",
       "\t\t\tBK.HALS (Hales Grove, Mendocino, CA)\n",
       "\t\t\tBK.HAPY (Happy Camp Mountain)\n",
       "\t\t\tBK.HAS2 (Hastings 2)\n",
       "\t\t\tBK.HAST (UC Hastings Preserve, Carmel Valley, CA, USA) (2x)\n",
       "\t\t\tBK.HATC (Hat Creek Radio Astronomy Obs., Cassel, CA, USA) (2x)\n",
       "\t\t\tBK.HAYF (Tule Creek, Hayfork, CA)\n",
       "\t\t\tBK.HELL (Rademacher Property, Miramonte, CA, USA) (2x)\n",
       "\t\t\tBK.HOPS (Hopland Research and Extension Center, Hopland, CA, USA) (3x)\n",
       "\t\t\tBK.HRCH (Hirsch Winery property)\n",
       "\t\t\tBK.HULI (Fort Hunter Liggett, CA)\n",
       "\t\t\tBK.HUMO (Hull Mountain, OR, USA)\n",
       "\t\t\tBK.HUNT (Big Hunter Mountain, Trinity County)\n",
       "\t\t\tBK.INGL (Smith Ridge, Inglenook, CA)\n",
       "\t\t\tBK.JCC (Jacoby Creek, Bayside, CA, USA)\n",
       "\t\t\tBK.JEPS (Jepson Prairie, Dixon, CA)\n",
       "\t\t\tBK.JEWT (Jewett Creek)\n",
       "\t\t\tBK.JRSC (Jasper Ridge Biol. Preserve, Stanford, CA, USA) (17x)\n",
       "\t\t\tBK.KARE (Kearney REC, Parlier, CA)\n",
       "\t\t\tBK.KCC (Kaiser Creek, CA, USA) (23x)\n",
       "\t\t\tBK.KNEE (Kneeland/Ashfield Ridge)\n",
       "\t\t\tBK.KRUG (Krueger Creek)\n",
       "\t\t\tBK.LAND (Landels-Hill Big Creek Reserve, Lucia, CA)\n",
       "\t\t\tBK.LCOW (Little Cow Creek, Bella Vista, CA)\n",
       "\t\t\tBK.LCUV (Le Cuvier Winery, Paso Robles, CA)\n",
       "\t\t\tBK.LEGD (Drayer Ranch, Le Grand, CA)\n",
       "\t\t\tBK.LGMB (Garner Mountain)\n",
       "\t\t\tBK.LIND (Lindcove REC, Exeter, CA)\n",
       "\t\t\tBK.LITV (Little Valley, Lassen County)\n",
       "\t\t\tBK.LLNL (Lawrence Livermore National Laboratory, Livermore, CA, USA)\n",
       "\t\t\tBK.LSIB (Lassen Sifford Mountain)\n",
       "\t\t\tBK.MCCM (Marconi Conference Center, Marshall, CA, USA)\n",
       "\t\t\tBK.MERC (Merced, CA)\n",
       "\t\t\tBK.MHC (Lick Observatory, Mt. Hamiliton, CA, USA) (11x)\n",
       "\t\t\tBK.MHDL (Marin Headlands, GG Nat'l Rec. Area, CA, USA)\n",
       "\t\t\tBK.MILL (Mill Creek, CA)\n",
       "\t\t\tBK.MIN (Mt. Lassen Park Hdqts, Mineral, CA, USA)\n",
       "\t\t\tBK.MLKN (Milliken Reservoir, Napa, CA)\n",
       "\t\t\tBK.MMI (Miami Mountain, Sierra National Forest, Mariposa County)\n",
       "\t\t\tBK.MNDO (Woodlands Fire Station, Mendocino, CA)\n",
       "\t\t\tBK.MNLT (Moonlight Peak)\n",
       "\t\t\tBK.MNRC (McLaughlin Natural Reserve (UC Davis), CA, USA)\n",
       "\t\t\tBK.MOD (Modoc Plateau, CA, USA) (16x)\n",
       "\t\t\tBK.MOGU (York Ranch, Montague, CA)\n",
       "\t\t\tBK.MTOS (Mt Oso, Westley, CA, USA)\n",
       "\t\t\tBK.MZTA (Manzanita Lookout)\n",
       "\t\t\tBK.OAKV (Oakville Experimental Vineyard, Oakville, CA)\n",
       "\t\t\tBK.ORRS (Orr Springs)\n",
       "\t\t\tBK.ORV (Oroville Dam, Oroville, CA, USA)\n",
       "\t\t\tBK.OVRO (Owens Valley Radio Observatory, Big Pine, CA)\n",
       "\t\t\tBK.OXMT (Ox Mountain, CA, USA)\n",
       "\t\t\tBK.PABC (Pismo Beach, CA)\n",
       "\t\t\tBK.PACP (Pacheco Peak, CA, USA)\n",
       "\t\t\tBK.PESC (Peninsula Open Space; Pescadero, CA)\n",
       "\t\t\tBK.PETL (Punta Gorda, Petrolia, CA)\n",
       "\t\t\tBK.PETY (Pettyjohn Place, Tehama County, CA)\n",
       "\t\t\tBK.PINL (Point Pinole, Richmond, CA)\n",
       "\t\t\tBK.PIT6 (Pit Six Reservoir)\n",
       "\t\t\tBK.PKD (Bear Valley Ranch, Parkfield, CA, USA)\n",
       "\t\t\tBK.PKD1 (Haliburton House, Parkfield, CA, USA) (8x)\n",
       "\t\t\tBK.PORC (Porcupine Ridge)\n",
       "\t\t\tBK.POTR (Potrero Hills, Fairfield, CA, USA)\n",
       "\t\t\tBK.PRDS (Paradise Ridge)\n",
       "\t\t\tBK.PVSP (Pleasant Valley)\n",
       "\t\t\tBK.PWOD (Pepperwood Preserve)\n",
       "\t\t\tBK.QRDG (Quail Ridge Reserve, Napa, CA)\n",
       "\t\t\tBK.RAMR (Ramage Ranch, Paso Robles, CA, USA)\n",
       "\t\t\tBK.RAVE (Ravendale, CA)\n",
       "\t\t\tBK.RBOW (Rainbow Ridge, Humboldt, CA)\n",
       "\t\t\tBK.RIMR (Rimrock Valley Reservoir)\n",
       "\t\t\tBK.ROMB (Rominger Bros.; near Winters)\n",
       "\t\t\tBK.RUSS (Russell Ranch ASI., Davis, CA)\n",
       "\t\t\tBK.RVIT (Round Valley Indian Tribe, Mendocino County, CA)\n",
       "\t\t\tBK.SAGE (Sage Hen Hill, Round Mountain, CA USA)\n",
       "\t\t\tBK.SANG (Sanger Peak)\n",
       "\t\t\tBK.SAO (San Andreas Geophysical Obs., Hollister, CA, USA) (43x)\n",
       "\t\t\tBK.SBAR (Scott Bar, CA)\n",
       "\t\t\tBK.SCOT (Callahan, CA, USA)\n",
       "\t\t\tBK.SCZ (Chualar Canyon, Santa Cruz, CA, USA)\n",
       "\t\t\tBK.SFRE (Sierra Foothills REC, Browns Valley, CA)\n",
       "\t\t\tBK.SHEP (Macdoel, CA, USA)\n",
       "\t\t\tBK.SHWD (Sherwood Rancheria area, Willits)\n",
       "\t\t\tBK.SIGP (Signal Peak, near Fort Dick CA, USA)\n",
       "\t\t\tBK.SKGS (Skaggs, Las Lomas)\n",
       "\t\t\tBK.SPAN (Spanish Creek)\n",
       "\t\t\tBK.SPRL (Sproul Creek)\n",
       "\t\t\tBK.STAN (Stanford, CA, USA)\n",
       "\t\t\tBK.SUTB (Sutter Buttes, CA, USA) (2x)\n",
       "\t\t\tBK.TCHL (Clark Property, Shandon, CA, USA)\n",
       "\t\t\tBK.THIS (South End of Cholame Valley, Shandon, CA, USA)\n",
       "\t\t\tBK.TOLH (Petersen Ranch, Tollhouse, CA)\n",
       "\t\t\tBK.TRAM (Rambo Property, Shandon, CA, USA)\n",
       "\t\t\tBK.TRIN (Scott Ranch, Trinity Center, CA USA)\n",
       "\t\t\tBK.TSCN (Shell Creek North, Shandon, CA, USA)\n",
       "\t\t\tBK.TULE (Intermountain Research and Extension Center, Tulelake, CA)\n",
       "\t\t\tBK.TWIT (Twitchell Island Reclamation, Rio Vista, CA)\n",
       "\t\t\tBK.VAK (LBL B46 Tunnel, Berkeley, CA, USA)\n",
       "\t\t\tBK.WDC (Whiskeytown Dam, Whiskeytown, CA, USA)\n",
       "\t\t\tBK.WEAV (Weaverville, CA USA)\n",
       "\t\t\tBK.WEBR (Weber Reservoir, near Camino)\n",
       "\t\t\tBK.WELL (Weller Cave, Western Cave Conservancy, Sutter Creek, CA)\n",
       "\t\t\tBK.WENL (Wente Vineyards, Livermore, CA, USA) (2x)\n",
       "\t\t\tBK.WHCL (West Hills College)\n",
       "\t\t\tBK.WHMT (West Haight Mountain)\n",
       "\t\t\tBK.WINE (Golden State Vintners, Fresno, CA USA)\n",
       "\t\t\tBK.WLKR (Walker Ranch; near Petrolia CA)\n",
       "\t\t\tBK.WROK (Whale Rock Reservoir)\n",
       "\t\t\tBK.WSRE (West Side REC, Calflax, CA USA)\n",
       "\t\t\tBK.YBH (Yreka Blue Horn Mine, Yreka, CA, USA) (20x)\n",
       "\t\t\tBK.YUBA (Signal Peak, Yuba Pass, CA)\n",
       "\t\tChannels (1347):\n",
       "\t\t\tBK.AASB.00.HHZ, BK.AASB.00.HHN, BK.AASB.00.HHE, BK.ADAM.00.HHZ, \n",
       "\t\t\tBK.ADAM.00.HHN, BK.ADAM.00.HHE, BK.ALVW.00.HHZ, BK.ALVW.00.HHN, \n",
       "\t\t\tBK.ALVW.00.HHE, BK.AONC.00.HHZ, BK.AONC.00.HHN, BK.AONC.00.HHE, \n",
       "\t\t\tBK.ARC..HHZ, BK.ARC..HHN, BK.ARC..HHE, BK.ATP.00.HHZ, BK.ATP.00.HHN\n",
       "\t\t\tBK.ATP.00.HHE, BK.BABI.00.HHZ, BK.BABI.00.HHN, BK.BABI.00.HHE, \n",
       "\t\t\tBK.BAKR.00.HHZ, BK.BAKR.00.HHN, BK.BAKR.00.HHE, BK.BARR.00.HHZ, \n",
       "\t\t\tBK.BARR.00.HHN, BK.BARR.00.HHE, BK.BAYL.00.HHZ, BK.BAYL.00.HHN, \n",
       "\t\t\tBK.BAYL.00.HHE, BK.BCCR.00.HHZ, BK.BCCR.00.HHN, BK.BCCR.00.HHE, \n",
       "\t\t\tBK.BDM..HHZ (5x), BK.BDM..HHN (5x), BK.BDM..HHE (5x), BK.BDM.00.HHZ\n",
       "\t\t\tBK.BDM.00.HHN, BK.BDM.00.HHE, BK.BIGV.00.HHZ, BK.BIGV.00.HHN, \n",
       "\t\t\tBK.BIGV.00.HHE, BK.BJES.00.HHZ, BK.BJES.00.HHN, BK.BJES.00.HHE, \n",
       "\t\t\tBK.BKS..HHZ (3x), BK.BKS..HHN (6x), BK.BKS..HHE (5x), \n",
       "\t\t\tBK.BKS.00.HHZ (2x), BK.BKS.00.HHN (2x), BK.BKS.00.HHE (2x), \n",
       "\t\t\tBK.BL67.00.HHZ, BK.BL67.00.HHN, BK.BL67.00.HHE, BK.BLAS.00.HHZ, \n",
       "\t\t\tBK.BLAS.00.HHN, BK.BLAS.00.HHE, BK.BLUE.00.HHZ, BK.BLUE.00.HHN, \n",
       "\t\t\tBK.BLUE.00.HHE, BK.BONV.00.HHZ, BK.BONV.00.HHN, BK.BONV.00.HHE, \n",
       "\t\t\tBK.BOYR.00.HHZ, BK.BOYR.00.HHN, BK.BOYR.00.HHE, BK.BRAD.00.HHZ, \n",
       "\t\t\tBK.BRAD.00.HHN, BK.BRAD.00.HHE, BK.BRIB..HHZ (5x), \n",
       "\t\t\tBK.BRIB..HHN (6x), BK.BRIB..HHE (6x), BK.BRIB.00.HHZ, \n",
       "\t\t\tBK.BRIB.00.HHN, BK.BRIB.00.HHE, BK.BRIB.01.HHZ (2x), \n",
       "\t\t\tBK.BRIB.01.HHN (2x), BK.BRIB.01.HHE (2x), BK.BRIC.00.HHZ, \n",
       "\t\t\tBK.BRIC.00.HHN, BK.BRIC.00.HHE, BK.BRIT.00.HHZ, BK.BRIT.00.HHN, \n",
       "\t\t\tBK.BRIT.00.HHE, BK.BRK..HHZ (5x), BK.BRK..HHN (5x), \n",
       "\t\t\tBK.BRK..HHE (5x), BK.BRK.00.HHZ (2x), BK.BRK.00.HHN (2x), \n",
       "\t\t\tBK.BRK.00.HHE (2x), BK.BUCI.00.HHZ, BK.BUCI.00.HHN, BK.BUCI.00.HHE\n",
       "\t\t\tBK.BUCR.00.HHZ, BK.BUCR.00.HHN, BK.BUCR.00.HHE, BK.CCOR.00.HHZ, \n",
       "\t\t\tBK.CCOR.00.HHN, BK.CCOR.00.HHE, BK.CGRV.00.HHZ, BK.CGRV.00.HHN, \n",
       "\t\t\tBK.CGRV.00.HHE, BK.CLRV.00.HHZ, BK.CLRV.00.HHN, BK.CLRV.00.HHE, \n",
       "\t\t\tBK.CMB..HHZ (2x), BK.CMB..HHN (3x), BK.CMB..HHE (2x), \n",
       "\t\t\tBK.CMB.00.HHZ (2x), BK.CMB.00.HHN (2x), BK.CMB.00.HHE (2x), \n",
       "\t\t\tBK.CVS..HHZ (4x), BK.CVS..HHN (4x), BK.CVS..HHE (4x), BK.CVS.00.HHZ\n",
       "\t\t\tBK.CVS.00.HHN, BK.CVS.00.HHE, BK.DANT.00.HHZ, BK.DANT.00.HHN, \n",
       "\t\t\tBK.DANT.00.HHE, BK.DCMP.00.HHZ (2x), BK.DCMP.00.HHN (2x), \n",
       "\t\t\tBK.DCMP.00.HHE (2x), BK.DCMP.01.HHZ, BK.DCMP.01.HHN, BK.DCMP.01.HHE\n",
       "\t\t\tBK.DIAZ.00.HHZ, BK.DIAZ.00.HHN, BK.DIAZ.00.HHE, BK.DLIK.00.HHZ, \n",
       "\t\t\tBK.DLIK.00.HHN, BK.DLIK.00.HHE, BK.DMOR.00.HHZ, BK.DMOR.00.HHN, \n",
       "\t\t\tBK.DMOR.00.HHE, BK.DRDG.00.HHZ, BK.DRDG.00.HHN, BK.DRDG.00.HHE, \n",
       "\t\t\tBK.DRYC.00.HHZ, BK.DRYC.00.HHN, BK.DRYC.00.HHE, BK.EAGL.00.HHZ, \n",
       "\t\t\tBK.EAGL.00.HHN, BK.EAGL.00.HHE, BK.ELFS..HHZ, BK.ELFS..HHN, \n",
       "\t\t\tBK.ELFS..HHE, BK.FARB..HHZ (9x), BK.FARB..HHN (9x), \n",
       "\t\t\tBK.FARB..HHE (9x), BK.FARB.00.HHZ, BK.FARB.00.HHN, BK.FARB.00.HHE, \n",
       "\t\t\tBK.FORD.00.HHZ, BK.FORD.00.HHN, BK.FORD.00.HHE, BK.GALB.00.HHZ (2x)\n",
       "\t\t\tBK.GALB.00.HHN (2x), BK.GALB.00.HHE (2x), BK.GASB..HHZ (2x), \n",
       "\t\t\tBK.GASB..HHN (2x), BK.GASB..HHE (2x), BK.GASB.00.HHZ, \n",
       "\t\t\tBK.GASB.00.HHN, BK.GASB.00.HHE, BK.GCKB.00.HHZ, BK.GCKB.00.HHN, \n",
       "\t\t\tBK.GCKB.00.HHE, BK.GHOP.00.HHZ, BK.GHOP.00.HHN, BK.GHOP.00.HHE, \n",
       "\t\t\tBK.GRPK.00.HHZ, BK.GRPK.00.HHN, BK.GRPK.00.HHE, BK.GTSB.00.HHZ, \n",
       "\t\t\tBK.GTSB.00.HHN, BK.GTSB.00.HHE, BK.GUMB.00.HHZ, BK.GUMB.00.HHN, \n",
       "\t\t\tBK.GUMB.00.HHE, BK.HALS.00.HHZ (2x), BK.HALS.00.HHN (2x), \n",
       "\t\t\tBK.HALS.00.HHE (2x), BK.HAPY.00.HHZ, BK.HAPY.00.HHN, BK.HAPY.00.HHE\n",
       "\t\t\tBK.HAS2.00.HHZ, BK.HAS2.00.HHN, BK.HAS2.00.HHE, BK.HAST..HHZ (3x)\n",
       "\t\t\tBK.HAST..HHN (3x), BK.HAST..HHE (3x), BK.HAST.00.HHZ (2x), \n",
       "\t\t\tBK.HAST.00.HHN (2x), BK.HAST.00.HHE (2x), BK.HATC..HHZ (2x), \n",
       "\t\t\tBK.HATC..HHN (2x), BK.HATC..HHE (2x), BK.HATC.00.HHZ, \n",
       "\t\t\tBK.HATC.00.HHN, BK.HATC.00.HHE, BK.HAYF.00.HHZ, BK.HAYF.00.HHN, \n",
       "\t\t\tBK.HAYF.00.HHE, BK.HELL..HHZ (2x), BK.HELL..HHN (2x), \n",
       "\t\t\tBK.HELL..HHE (2x), BK.HELL.00.HHZ (3x), BK.HELL.00.HHN (3x), \n",
       "\t\t\tBK.HELL.00.HHE (3x), BK.HOPS..HHZ (7x), BK.HOPS..HHN (10x), \n",
       "\t\t\tBK.HOPS..HHE (10x), BK.HOPS.00.HHZ (3x), BK.HOPS.00.HHN (3x), \n",
       "\t\t\tBK.HOPS.00.HHE (3x), BK.HRCH.00.HHZ, BK.HRCH.00.HHN, BK.HRCH.00.HHE\n",
       "\t\t\tBK.HULI.00.HHZ, BK.HULI.00.HHN, BK.HULI.00.HHE, BK.HUMO..HHZ (4x)\n",
       "\t\t\tBK.HUMO..HHN (4x), BK.HUMO..HHE (4x), BK.HUMO.00.HHZ (2x), \n",
       "\t\t\tBK.HUMO.00.HHN (2x), BK.HUMO.00.HHE (2x), BK.HUNT.00.HHZ, \n",
       "\t\t\tBK.HUNT.00.HHN, BK.HUNT.00.HHE, BK.INGL.00.HHZ, BK.INGL.00.HHN, \n",
       "\t\t\tBK.INGL.00.HHE, BK.JCC..HHZ (3x), BK.JCC..HHN (3x), \n",
       "\t\t\tBK.JCC..HHE (3x), BK.JCC.00.HHZ (2x), BK.JCC.00.HHN (2x), \n",
       "\t\t\tBK.JCC.00.HHE (2x), BK.JEPS.00.HHZ (4x), BK.JEPS.00.HHN (4x), \n",
       "\t\t\tBK.JEPS.00.HHE (4x), BK.JEWT.00.HHZ, BK.JEWT.00.HHN, BK.JEWT.00.HHE\n",
       "\t\t\tBK.JRSC..HHZ (15x), BK.JRSC..HHN (15x), BK.JRSC..HHE (15x), \n",
       "\t\t\tBK.JRSC.00.HHZ (2x), BK.JRSC.00.HHN (2x), BK.JRSC.00.HHE (2x), \n",
       "\t\t\tBK.KARE.00.HHZ (2x), BK.KARE.00.HHN (2x), BK.KARE.00.HHE (2x), \n",
       "\t\t\tBK.KCC..HHZ (15x), BK.KCC..HHN (15x), BK.KCC..HHE (15x), \n",
       "\t\t\tBK.KCC.00.HHZ (8x), BK.KCC.00.HHN (8x), BK.KCC.00.HHE (8x), \n",
       "\t\t\tBK.KNEE.00.HHZ, BK.KNEE.00.HHN, BK.KNEE.00.HHE, BK.KRUG.00.HHZ, \n",
       "\t\t\tBK.KRUG.00.HHN, BK.KRUG.00.HHE, BK.LAND.00.HHZ, BK.LAND.00.HHN, \n",
       "\t\t\tBK.LAND.00.HHE, BK.LCOW.00.HHZ, BK.LCOW.00.HHN, BK.LCOW.00.HHE, \n",
       "\t\t\tBK.LCUV.00.HHZ (2x), BK.LCUV.00.HHN (2x), BK.LCUV.00.HHE (2x), \n",
       "\t\t\tBK.LEGD.00.HHZ, BK.LEGD.00.HHN, BK.LEGD.00.HHE, BK.LGMB.00.HHZ, \n",
       "\t\t\tBK.LGMB.00.HHN, BK.LGMB.00.HHE, BK.LIND.00.HHZ (2x), \n",
       "\t\t\tBK.LIND.00.HHN (2x), BK.LIND.00.HHE (2x), BK.LITV.00.HHZ, \n",
       "\t\t\tBK.LITV.00.HHN, BK.LITV.00.HHE, BK.LLNL.00.HHZ, BK.LLNL.00.HHN, \n",
       "\t\t\tBK.LLNL.00.HHE, BK.LSIB.00.HHZ, BK.LSIB.00.HHN, BK.LSIB.00.HHE, \n",
       "\t\t\tBK.MCCM..HHZ, BK.MCCM..HHN, BK.MCCM..HHE, BK.MCCM.00.HHZ (5x), \n",
       "\t\t\tBK.MCCM.00.HHN (5x), BK.MCCM.00.HHE (5x), BK.MERC.00.HHZ, \n",
       "\t\t\tBK.MERC.00.HHN, BK.MERC.00.HHE, BK.MHC..HHZ (9x), BK.MHC..HHN (9x)\n",
       "\t\t\tBK.MHC..HHE (9x), BK.MHC.00.HHZ (2x), BK.MHC.00.HHN (2x), \n",
       "\t\t\tBK.MHC.00.HHE (2x), BK.MHDL.00.HHZ, BK.MHDL.00.HHN, BK.MHDL.00.HHE\n",
       "\t\t\tBK.MILL.00.HHZ, BK.MILL.00.HHN, BK.MILL.00.HHE, BK.MIN..HHZ (2x)\n",
       "\t\t\tBK.MIN..HHN, BK.MIN..HHE (2x), BK.MLKN.00.HHZ, BK.MLKN.00.HHN, \n",
       "\t\t\tBK.MLKN.00.HHE, BK.MMI.00.HHZ, BK.MMI.00.HHN, BK.MMI.00.HHE, \n",
       "\t\t\tBK.MNDO.00.HHZ, BK.MNDO.00.HHN, BK.MNDO.00.HHE, BK.MNLT.00.HHZ, \n",
       "\t\t\tBK.MNLT.00.HHN, BK.MNLT.00.HHE, BK.MNRC..HHZ (3x), \n",
       "\t\t\tBK.MNRC..HHN (3x), BK.MNRC..HHE (3x), BK.MNRC.00.HHZ (2x), \n",
       "\t\t\tBK.MNRC.00.HHN (2x), BK.MNRC.00.HHE (2x), BK.MOD..HHZ (11x), \n",
       "\t\t\tBK.MOD..HHN (11x), BK.MOD..HHE (11x), BK.MOD.00.HHZ (5x), \n",
       "\t\t\tBK.MOD.00.HHN (5x), BK.MOD.00.HHE (5x), BK.MOGU.00.HHZ (2x), \n",
       "\t\t\tBK.MOGU.00.HHN (2x), BK.MOGU.00.HHE (2x), BK.MTOS.00.HHZ, \n",
       "\t\t\tBK.MTOS.00.HHN, BK.MTOS.00.HHE, BK.MZTA.00.HHZ, BK.MZTA.00.HHN, \n",
       "\t\t\tBK.MZTA.00.HHE, BK.OAKV.00.HHZ, BK.OAKV.00.HHN, BK.OAKV.00.HHE, \n",
       "\t\t\tBK.ORRS.00.HHZ, BK.ORRS.00.HHN, BK.ORRS.00.HHE, BK.ORV..HHZ, \n",
       "\t\t\tBK.ORV..HHN, BK.ORV..HHE, BK.ORV.00.HHZ, BK.ORV.00.HHN, \n",
       "\t\t\tBK.ORV.00.HHE, BK.OVRO.00.HHZ, BK.OVRO.00.HHN, BK.OVRO.00.HHE, \n",
       "\t\t\tBK.OXMT.00.HHZ, BK.OXMT.00.HHN, BK.OXMT.00.HHE, BK.PABC.00.HHZ, \n",
       "\t\t\tBK.PABC.00.HHN, BK.PABC.00.HHE, BK.PACP..HHZ (3x), \n",
       "\t\t\tBK.PACP..HHN (3x), BK.PACP..HHE (3x), BK.PACP.00.HHZ, \n",
       "\t\t\tBK.PACP.00.HHN, BK.PACP.00.HHE, BK.PESC.00.HHZ, BK.PESC.00.HHN, \n",
       "\t\t\tBK.PESC.00.HHE, BK.PETL.00.HHZ (2x), BK.PETL.00.HHN (2x), \n",
       "\t\t\tBK.PETL.00.HHE (2x), BK.PETY.00.HHZ (2x), BK.PETY.00.HHN (2x), \n",
       "\t\t\tBK.PETY.00.HHE (2x), BK.PINL.00.HHZ, BK.PINL.00.HHN, BK.PINL.00.HHE\n",
       "\t\t\tBK.PIT6.00.HHZ, BK.PIT6.00.HHN, BK.PIT6.00.HHE, BK.PKD..HHZ (2x)\n",
       "\t\t\tBK.PKD..HHN (2x), BK.PKD..HHE (2x), BK.PKD.00.HHZ (2x), \n",
       "\t\t\tBK.PKD.00.HHN (2x), BK.PKD.00.HHE (2x), BK.PKD1..HHZ (8x), \n",
       "\t\t\tBK.PKD1..HHN (8x), BK.PKD1..HHE (8x), BK.PORC.00.HHZ, \n",
       "\t\t\tBK.PORC.00.HHN, BK.PORC.00.HHE, BK.POTR..HHZ (4x), \n",
       "\t\t\tBK.POTR..HHN (4x), BK.POTR..HHE (4x), BK.PRDS.00.HHZ, \n",
       "\t\t\tBK.PRDS.00.HHN, BK.PRDS.00.HHE, BK.PVSP.00.HHZ, BK.PVSP.00.HHN, \n",
       "\t\t\tBK.PVSP.00.HHE, BK.PWOD.00.HHZ, BK.PWOD.00.HHN, BK.PWOD.00.HHE, \n",
       "\t\t\tBK.QRDG.00.HHZ, BK.QRDG.00.HHN, BK.QRDG.00.HHE, BK.RAMR..HHZ (2x), \n",
       "\t\t\tBK.RAMR..HHN (2x), BK.RAMR..HHE (2x), BK.RAMR.00.HHZ, \n",
       "\t\t\tBK.RAMR.00.HHN, BK.RAMR.00.HHE, BK.RAVE.00.HHZ, BK.RAVE.00.HHN, \n",
       "\t\t\tBK.RAVE.00.HHE, BK.RBOW.00.HHZ, BK.RBOW.00.HHN, BK.RBOW.00.HHE, \n",
       "\t\t\tBK.RIMR.00.HHZ, BK.RIMR.00.HHN, BK.RIMR.00.HHE, BK.ROMB.00.HHZ, \n",
       "\t\t\tBK.ROMB.00.HHN, BK.ROMB.00.HHE, BK.RUSS.00.HHZ (2x), \n",
       "\t\t\tBK.RUSS.00.HHN (2x), BK.RUSS.00.HHE (2x), BK.RVIT.00.HHZ, \n",
       "\t\t\tBK.RVIT.00.HHN, BK.RVIT.00.HHE, BK.SAGE.00.HHZ, BK.SAGE.00.HHN, \n",
       "\t\t\tBK.SAGE.00.HHE, BK.SANG.00.HHZ, BK.SANG.00.HHN, BK.SANG.00.HHE, \n",
       "\t\t\tBK.SAO..HHZ (36x), BK.SAO..HHN (36x), BK.SAO..HHE (36x), \n",
       "\t\t\tBK.SAO.00.HHZ (7x), BK.SAO.00.HHN (7x), BK.SAO.00.HHE (7x), \n",
       "\t\t\tBK.SBAR.00.HHZ, BK.SBAR.00.HHN, BK.SBAR.00.HHE, BK.SCOT.00.HHZ, \n",
       "\t\t\tBK.SCOT.00.HHN, BK.SCOT.00.HHE, BK.SCOT.01.HHZ, BK.SCOT.01.HHN, \n",
       "\t\t\tBK.SCOT.01.HHE, BK.SCZ.00.HHZ, BK.SCZ.00.HHN, BK.SCZ.00.HHE, \n",
       "\t\t\tBK.SCZ.50.HHZ, BK.SCZ.50.HHN, BK.SCZ.50.HHE, BK.SFRE.00.HHZ, \n",
       "\t\t\tBK.SFRE.00.HHN, BK.SFRE.00.HHE, BK.SHEP.00.HHZ, BK.SHEP.00.HHN, \n",
       "\t\t\tBK.SHEP.00.HHE, BK.SHEP.01.HHZ, BK.SHEP.01.HHN, BK.SHEP.01.HHE, \n",
       "\t\t\tBK.SHWD.00.HHZ, BK.SHWD.00.HHN, BK.SHWD.00.HHE, BK.SIGP.00.HHZ, \n",
       "\t\t\tBK.SIGP.00.HHN, BK.SIGP.00.HHE, BK.SKGS.00.HHZ, BK.SKGS.00.HHN, \n",
       "\t\t\tBK.SKGS.00.HHE, BK.SPAN.00.HHZ, BK.SPAN.00.HHN, BK.SPAN.00.HHE, \n",
       "\t\t\tBK.SPRL.00.HHZ, BK.SPRL.00.HHN, BK.SPRL.00.HHE, BK.STAN..HHZ, \n",
       "\t\t\tBK.STAN..HHN, BK.STAN..HHE, BK.SUTB..HHZ (4x), BK.SUTB..HHN (4x), \n",
       "\t\t\tBK.SUTB..HHE (4x), BK.SUTB.00.HHZ, BK.SUTB.00.HHN, BK.SUTB.00.HHE, \n",
       "\t\t\tBK.SUTB.01.HHZ, BK.SUTB.01.HHN, BK.SUTB.01.HHE, BK.TCHL.00.HHZ (3x)\n",
       "\t\t\tBK.TCHL.00.HHN (3x), BK.TCHL.00.HHE (3x), BK.THIS.00.HHZ (3x), \n",
       "\t\t\tBK.THIS.00.HHN (4x), BK.THIS.00.HHE (4x), BK.TOLH.00.HHZ, \n",
       "\t\t\tBK.TOLH.00.HHN, BK.TOLH.00.HHE, BK.TRAM.00.HHZ (4x), \n",
       "\t\t\tBK.TRAM.00.HHN (4x), BK.TRAM.00.HHE (4x), BK.TRIN.00.HHZ, \n",
       "\t\t\tBK.TRIN.00.HHN, BK.TRIN.00.HHE, BK.TRIN.01.HHZ, BK.TRIN.01.HHN, \n",
       "\t\t\tBK.TRIN.01.HHE, BK.TSCN.00.HHZ (5x), BK.TSCN.00.HHN (5x), \n",
       "\t\t\tBK.TSCN.00.HHE (5x), BK.TULE.00.HHZ (2x), BK.TULE.00.HHN (2x), \n",
       "\t\t\tBK.TULE.00.HHE (2x), BK.TWIT.00.HHZ, BK.TWIT.00.HHN, BK.TWIT.00.HHE\n",
       "\t\t\tBK.VAK.00.HHZ (2x), BK.VAK.00.HHN (2x), BK.VAK.00.HHE (2x), \n",
       "\t\t\tBK.WDC..HHZ (2x), BK.WDC..HHN (2x), BK.WDC..HHE (2x), BK.WDC.00.HHZ\n",
       "\t\t\tBK.WDC.00.HHN, BK.WDC.00.HHE, BK.WEAV.00.HHZ, BK.WEAV.00.HHN, \n",
       "\t\t\tBK.WEAV.00.HHE, BK.WEBR.00.HHZ, BK.WEBR.00.HHN, BK.WEBR.00.HHE, \n",
       "\t\t\tBK.WELL.00.HHZ, BK.WELL.00.HHN, BK.WELL.00.HHE, BK.WENL..HHZ (11x)\n",
       "\t\t\tBK.WENL..HHN (11x), BK.WENL..HHE (11x), BK.WENL.00.HHZ (3x), \n",
       "\t\t\tBK.WENL.00.HHN (3x), BK.WENL.00.HHE (3x), BK.WHCL.00.HHZ, \n",
       "\t\t\tBK.WHCL.00.HHN, BK.WHCL.00.HHE, BK.WHMT.00.HHZ, BK.WHMT.00.HHN, \n",
       "\t\t\tBK.WHMT.00.HHE, BK.WINE.00.HHZ, BK.WINE.00.HHN, BK.WINE.00.HHE, \n",
       "\t\t\tBK.WLKR.00.HHZ, BK.WLKR.00.HHN, BK.WLKR.00.HHE, BK.WROK.00.HHZ, \n",
       "\t\t\tBK.WROK.00.HHN, BK.WROK.00.HHE, BK.WSRE.00.HHZ, BK.WSRE.00.HHN, \n",
       "\t\t\tBK.WSRE.00.HHE, BK.YBH..HHZ (9x), BK.YBH..HHN (9x), \n",
       "\t\t\tBK.YBH..HHE (9x), BK.YBH..HH1 (3x), BK.YBH..HH2 (3x), \n",
       "\t\t\tBK.YBH..HH3 (3x), BK.YBH.00.HHZ (11x), BK.YBH.00.HHN (11x), \n",
       "\t\t\tBK.YBH.00.HHE (11x), BK.YBH.50.HHZ (10x), BK.YBH.50.HHN (10x), \n",
       "\t\t\tBK.YBH.50.HHE (10x), BK.YUBA.00.HHZ, BK.YUBA.00.HHN, BK.YUBA.00.HHE"
      ]
     },
     "execution_count": 6,
     "metadata": {},
     "output_type": "execute_result"
    }
   ],
   "source": [
    "inv.select(channel=\"HH?\")"
   ]
  },
  {
   "cell_type": "markdown",
   "id": "d1f28695-9d43-4286-ba0d-8ff408632aef",
   "metadata": {},
   "source": [
    "## Select stations"
   ]
  },
  {
   "cell_type": "code",
   "execution_count": 7,
   "id": "d43a068b-05dc-4828-9184-b9b65b84cc86",
   "metadata": {
    "execution": {
     "iopub.execute_input": "2024-01-27T20:21:57.280978Z",
     "iopub.status.busy": "2024-01-27T20:21:57.280747Z",
     "iopub.status.idle": "2024-01-27T20:21:57.326290Z",
     "shell.execute_reply": "2024-01-27T20:21:57.325571Z",
     "shell.execute_reply.started": "2024-01-27T20:21:57.280956Z"
    }
   },
   "outputs": [],
   "source": [
    "cand = []\n",
    "minlon = -125\n",
    "maxlon = -123\n",
    "minlat = 39.5\n",
    "maxlat = 41\n",
    "\n",
    "for net in inv.select(channel=\"HH?\"):\n",
    "    for sta in net:\n",
    "        if minlon < sta.longitude < maxlon and minlat < sta.latitude < maxlat:\n",
    "            cand.append(sta)"
   ]
  },
  {
   "cell_type": "code",
   "execution_count": 8,
   "id": "59962d88-861a-42bc-983c-68d47712fb5f",
   "metadata": {
    "execution": {
     "iopub.execute_input": "2024-01-27T20:21:57.327513Z",
     "iopub.status.busy": "2024-01-27T20:21:57.327266Z",
     "iopub.status.idle": "2024-01-27T20:21:59.238309Z",
     "shell.execute_reply": "2024-01-27T20:21:59.237495Z",
     "shell.execute_reply.started": "2024-01-27T20:21:57.327487Z"
    }
   },
   "outputs": [
    {
     "data": {
      "image/png": "[encoded data removed]",
      "text/plain": [
       "<Figure size 640x480 with 1 Axes>"
      ]
     },
     "metadata": {},
     "output_type": "display_data"
    }
   ],
   "source": [
    "fig = plt.figure()\n",
    "ax = fig.add_subplot(111, projection=ccrs.Mercator())\n",
    "ax.coastlines(\"10m\")\n",
    "\n",
    "for net in inv:\n",
    "    for sta in net:\n",
    "        ax.plot(sta.longitude, sta.latitude, \"k^\", transform=ccrs.PlateCarree())\n",
    "\n",
    "for sta in cand:\n",
    "    ax.plot(sta.longitude, sta.latitude, \"r^\", transform=ccrs.PlateCarree())"
   ]
  },
  {
   "cell_type": "code",
   "execution_count": 9,
   "id": "61c594d4-b1ed-467f-86e2-1124fb960ab8",
   "metadata": {
    "execution": {
     "iopub.execute_input": "2024-01-27T20:21:59.239591Z",
     "iopub.status.busy": "2024-01-27T20:21:59.239330Z",
     "iopub.status.idle": "2024-01-27T20:21:59.244319Z",
     "shell.execute_reply": "2024-01-27T20:21:59.243743Z",
     "shell.execute_reply.started": "2024-01-27T20:21:59.239553Z"
    }
   },
   "outputs": [
    {
     "data": {
      "text/plain": [
       "['ARC',\n",
       " 'BJES',\n",
       " 'BLAS',\n",
       " 'BRIC',\n",
       " 'DMOR',\n",
       " 'GHOP',\n",
       " 'HALS',\n",
       " 'HAYF',\n",
       " 'HUNT',\n",
       " 'INGL',\n",
       " 'JCC',\n",
       " 'JEWT',\n",
       " 'KNEE',\n",
       " 'KRUG',\n",
       " 'PETL',\n",
       " 'PRDS',\n",
       " 'RBOW',\n",
       " 'RVIT',\n",
       " 'SHWD',\n",
       " 'SPRL',\n",
       " 'WLKR']"
      ]
     },
     "execution_count": 9,
     "metadata": {},
     "output_type": "execute_result"
    }
   ],
   "source": [
    "sorted([sta.code for sta in cand])"
   ]
  },
  {
   "cell_type": "markdown",
   "id": "cafa090b-8029-44c9-affd-00e04b524e82",
   "metadata": {},
   "source": [
    "## Download and pick data"
   ]
  },
  {
   "cell_type": "code",
   "execution_count": 10,
   "id": "d34d9403-6c52-4e54-afbc-14fe76cbf80e",
   "metadata": {
    "execution": {
     "iopub.execute_input": "2024-01-27T20:21:59.245600Z",
     "iopub.status.busy": "2024-01-27T20:21:59.244983Z",
     "iopub.status.idle": "2024-01-27T20:23:22.337513Z",
     "shell.execute_reply": "2024-01-27T20:23:22.336809Z",
     "shell.execute_reply.started": "2024-01-27T20:21:59.245579Z"
    }
   },
   "outputs": [
    {
     "data": {
      "application/vnd.jupyter.widget-view+json": {
       "model_id": "0847bf18955d44589642f0377acf24f9",
       "version_major": 2,
       "version_minor": 0
      },
      "text/plain": [
       "  0%|          | 0/21 [00:00<?, ?it/s]"
      ]
     },
     "metadata": {},
     "output_type": "display_data"
    },
    {
     "name": "stdout",
     "output_type": "stream",
     "text": [
      "No data for station ARC\n"
     ]
    },
    {
     "name": "stderr",
     "output_type": "stream",
     "text": [
      "2024-01-27 20:22:03,348 | seisbench | WARNING | Parts of the input stream consist of fragments shorter than the number of input samples or misaligned traces. Output might be empty.\n",
      "2024-01-27 20:22:05,887 | seisbench | WARNING | Parts of the input stream consist of fragments shorter than the number of input samples. Output might be empty.\n"
     ]
    },
    {
     "name": "stdout",
     "output_type": "stream",
     "text": [
      "No data for station BLAS\n",
      "No data for station GHOP\n",
      "No data for station HALS\n",
      "No data for station HUNT\n",
      "No data for station INGL\n",
      "No data for station JCC\n",
      "No data for station JEWT\n",
      "No data for station KRUG\n"
     ]
    },
    {
     "name": "stderr",
     "output_type": "stream",
     "text": [
      "2024-01-27 20:23:16,781 | seisbench | WARNING | Parts of the input stream consist of fragments shorter than the number of input samples or misaligned traces. Output might be empty.\n",
      "2024-01-27 20:23:17,178 | seisbench | WARNING | Parts of the input stream consist of fragments shorter than the number of input samples. Output might be empty.\n",
      "2024-01-27 20:23:17,179 | seisbench | WARNING | Parts of the input stream consist of fragments shorter than the number of input samples. Output might be empty.\n",
      "2024-01-27 20:23:18,557 | seisbench | WARNING | Parts of the input stream consist of fragments shorter than the number of input samples. Output might be empty.\n"
     ]
    },
    {
     "name": "stdout",
     "output_type": "stream",
     "text": [
      "No data for station SHWD\n",
      "No data for station SPRL\n",
      "No data for station WLKR\n"
     ]
    }
   ],
   "source": [
    "year = 2022\n",
    "day = 354\n",
    "\n",
    "model = sbm.PhaseNet.from_pretrained(\"instance\")\n",
    "\n",
    "picks = sbu.PickList()\n",
    "for station in tqdm([sta.code for sta in cand]):\n",
    "    stream = obspy.Stream()\n",
    "    for c in \"ZNE\":\n",
    "        url = f\"ncedc-pds/continuous_waveforms/BK/{year}/{year}.{day:03d}/{station}.BK.HH{c}.00.D.{year}.{day:03d}\"\n",
    "        try:\n",
    "            with fs.open(url) as f:\n",
    "                trace = obspy.read(f)\n",
    "                t0 = min(t.stats.starttime for t in trace)\n",
    "                trace.trim(endtime=t0 + 24 * 60 * 60)\n",
    "                stream += trace\n",
    "        except FileNotFoundError:\n",
    "            print(f\"No data for station {station}\")\n",
    "            break\n",
    "    if len(stream) > 0:\n",
    "        picks += model.classify(stream, P_threshold=0.2, S_threshold=0.2).picks"
   ]
  },
  {
   "cell_type": "code",
   "execution_count": 11,
   "id": "86e4781a-2fc0-4df3-9471-4467f4eb7a4c",
   "metadata": {
    "execution": {
     "iopub.execute_input": "2024-01-27T20:23:22.338720Z",
     "iopub.status.busy": "2024-01-27T20:23:22.338483Z",
     "iopub.status.idle": "2024-01-27T20:23:22.344531Z",
     "shell.execute_reply": "2024-01-27T20:23:22.343814Z",
     "shell.execute_reply.started": "2024-01-27T20:23:22.338698Z"
    }
   },
   "outputs": [
    {
     "data": {
      "text/plain": [
       "PickList with 7765 entries:\n",
       "\n",
       "BK.BJES.00\t2022-12-20T10:34:34.760000Z\tP\n",
       "BK.BJES.00\t2022-12-20T10:38:08.000000Z\tP\n",
       "BK.BJES.00\t2022-12-20T10:38:11.490000Z\tS\n",
       "...\n",
       "BK.RVIT.00\t2022-12-20T14:57:28.320000Z\tP\n",
       "BK.RVIT.00\t2022-12-20T17:34:08.300000Z\tP\n",
       "BK.RVIT.00\t2022-12-20T21:14:53.530000Z\tP"
      ]
     },
     "execution_count": 11,
     "metadata": {},
     "output_type": "execute_result"
    }
   ],
   "source": [
    "picks"
   ]
  },
  {
   "cell_type": "markdown",
   "id": "08da5ac3-6306-4d83-905e-d0bbabbd93a5",
   "metadata": {},
   "source": [
    "## Associate"
   ]
  },
  {
   "cell_type": "code",
   "execution_count": 12,
   "id": "42a7a025-e4d6-4434-acb3-f40e04412792",
   "metadata": {
    "execution": {
     "iopub.execute_input": "2024-01-27T20:23:22.345741Z",
     "iopub.status.busy": "2024-01-27T20:23:22.345524Z",
     "iopub.status.idle": "2024-01-27T20:23:22.401425Z",
     "shell.execute_reply": "2024-01-27T20:23:22.400693Z",
     "shell.execute_reply.started": "2024-01-27T20:23:22.345719Z"
    }
   },
   "outputs": [],
   "source": [
    "velocity_model = pyocto.VelocityModel0D(\n",
    "    p_velocity=6.0,\n",
    "    s_velocity=3.4,\n",
    "    tolerance=1.5\n",
    ")\n",
    "\n",
    "associator = pyocto.OctoAssociator.from_area(\n",
    "    lat=(minlat - 0.4, maxlat + 0.4),\n",
    "    lon=(minlon - 0.4, maxlon + 0.4),\n",
    "    zlim=(0, 50),\n",
    "    time_before=100,\n",
    "    velocity_model=velocity_model,\n",
    "    n_picks=8,\n",
    "    n_p_picks=3,\n",
    "    n_s_picks=3,\n",
    "    n_p_and_s_picks=3,\n",
    ")\n",
    "\n",
    "stations_pyocto = associator.inventory_to_df(inv)"
   ]
  },
  {
   "cell_type": "code",
   "execution_count": 13,
   "id": "8660471e-0853-4932-8ba6-00ffa248dac7",
   "metadata": {
    "execution": {
     "iopub.execute_input": "2024-01-27T20:23:22.402699Z",
     "iopub.status.busy": "2024-01-27T20:23:22.402486Z",
     "iopub.status.idle": "2024-01-27T20:23:30.251253Z",
     "shell.execute_reply": "2024-01-27T20:23:30.250501Z",
     "shell.execute_reply.started": "2024-01-27T20:23:22.402677Z"
    }
   },
   "outputs": [],
   "source": [
    "events, assignments = associator.associate_seisbench(picks, stations_pyocto)"
   ]
  },
  {
   "cell_type": "code",
   "execution_count": 14,
   "id": "d3d84c81-0431-4a6b-a38c-063f35c84d9f",
   "metadata": {
    "execution": {
     "iopub.execute_input": "2024-01-27T20:23:30.252555Z",
     "iopub.status.busy": "2024-01-27T20:23:30.252332Z",
     "iopub.status.idle": "2024-01-27T20:23:30.284544Z",
     "shell.execute_reply": "2024-01-27T20:23:30.283826Z",
     "shell.execute_reply.started": "2024-01-27T20:23:30.252532Z"
    }
   },
   "outputs": [
    {
     "data": {
      "text/html": [
       "<div>\n",
       "<style scoped>\n",
       "    .dataframe tbody tr th:only-of-type {\n",
       "        vertical-align: middle;\n",
       "    }\n",
       "\n",
       "    .dataframe tbody tr th {\n",
       "        vertical-align: top;\n",
       "    }\n",
       "\n",
       "    .dataframe thead th {\n",
       "        text-align: right;\n",
       "    }\n",
       "</style>\n",
       "<table border=\"1\" class=\"dataframe\">\n",
       "  <thead>\n",
       "    <tr style=\"text-align: right;\">\n",
       "      <th></th>\n",
       "      <th>idx</th>\n",
       "      <th>time</th>\n",
       "      <th>x</th>\n",
       "      <th>y</th>\n",
       "      <th>z</th>\n",
       "      <th>picks</th>\n",
       "      <th>latitude</th>\n",
       "      <th>longitude</th>\n",
       "      <th>depth</th>\n",
       "    </tr>\n",
       "  </thead>\n",
       "  <tbody>\n",
       "    <tr>\n",
       "      <th>0</th>\n",
       "      <td>0</td>\n",
       "      <td>2022-12-20 03:06:59.837898+00:00</td>\n",
       "      <td>-35.481024</td>\n",
       "      <td>6.994281</td>\n",
       "      <td>20.703125</td>\n",
       "      <td>8</td>\n",
       "      <td>40.312236</td>\n",
       "      <td>-124.417405</td>\n",
       "      <td>20.703125</td>\n",
       "    </tr>\n",
       "    <tr>\n",
       "      <th>1</th>\n",
       "      <td>1</td>\n",
       "      <td>2022-12-20 10:29:22.540804+00:00</td>\n",
       "      <td>-30.750221</td>\n",
       "      <td>17.007437</td>\n",
       "      <td>19.921875</td>\n",
       "      <td>8</td>\n",
       "      <td>40.402596</td>\n",
       "      <td>-124.362235</td>\n",
       "      <td>19.921875</td>\n",
       "    </tr>\n",
       "    <tr>\n",
       "      <th>2</th>\n",
       "      <td>2</td>\n",
       "      <td>2022-12-20 10:34:24.441170+00:00</td>\n",
       "      <td>-34.534864</td>\n",
       "      <td>40.037694</td>\n",
       "      <td>12.890625</td>\n",
       "      <td>11</td>\n",
       "      <td>40.609840</td>\n",
       "      <td>-124.408071</td>\n",
       "      <td>12.890625</td>\n",
       "    </tr>\n",
       "    <tr>\n",
       "      <th>3</th>\n",
       "      <td>3</td>\n",
       "      <td>2022-12-20 10:38:02.674132+00:00</td>\n",
       "      <td>-0.473080</td>\n",
       "      <td>46.045588</td>\n",
       "      <td>24.609375</td>\n",
       "      <td>15</td>\n",
       "      <td>40.664663</td>\n",
       "      <td>-124.005595</td>\n",
       "      <td>24.609375</td>\n",
       "    </tr>\n",
       "    <tr>\n",
       "      <th>4</th>\n",
       "      <td>4</td>\n",
       "      <td>2022-12-20 10:39:01.841587+00:00</td>\n",
       "      <td>-11.827008</td>\n",
       "      <td>31.025854</td>\n",
       "      <td>30.859375</td>\n",
       "      <td>15</td>\n",
       "      <td>40.529322</td>\n",
       "      <td>-124.139583</td>\n",
       "      <td>30.859375</td>\n",
       "    </tr>\n",
       "    <tr>\n",
       "      <th>...</th>\n",
       "      <td>...</td>\n",
       "      <td>...</td>\n",
       "      <td>...</td>\n",
       "      <td>...</td>\n",
       "      <td>...</td>\n",
       "      <td>...</td>\n",
       "      <td>...</td>\n",
       "      <td>...</td>\n",
       "      <td>...</td>\n",
       "    </tr>\n",
       "    <tr>\n",
       "      <th>384</th>\n",
       "      <td>384</td>\n",
       "      <td>2022-12-20 23:43:10.521341+00:00</td>\n",
       "      <td>-37.373345</td>\n",
       "      <td>35.031116</td>\n",
       "      <td>23.046875</td>\n",
       "      <td>12</td>\n",
       "      <td>40.564632</td>\n",
       "      <td>-124.441314</td>\n",
       "      <td>23.046875</td>\n",
       "    </tr>\n",
       "    <tr>\n",
       "      <th>385</th>\n",
       "      <td>385</td>\n",
       "      <td>2022-12-20 23:44:41.209464+00:00</td>\n",
       "      <td>5.203884</td>\n",
       "      <td>49.049534</td>\n",
       "      <td>30.078125</td>\n",
       "      <td>9</td>\n",
       "      <td>40.691697</td>\n",
       "      <td>-123.938435</td>\n",
       "      <td>30.078125</td>\n",
       "    </tr>\n",
       "    <tr>\n",
       "      <th>386</th>\n",
       "      <td>386</td>\n",
       "      <td>2022-12-20 23:49:22.043713+00:00</td>\n",
       "      <td>-11.827008</td>\n",
       "      <td>48.048219</td>\n",
       "      <td>28.515625</td>\n",
       "      <td>9</td>\n",
       "      <td>40.682612</td>\n",
       "      <td>-124.139903</td>\n",
       "      <td>28.515625</td>\n",
       "    </tr>\n",
       "    <tr>\n",
       "      <th>387</th>\n",
       "      <td>387</td>\n",
       "      <td>2022-12-20 23:52:09.677286+00:00</td>\n",
       "      <td>-26.965578</td>\n",
       "      <td>30.024539</td>\n",
       "      <td>32.421875</td>\n",
       "      <td>8</td>\n",
       "      <td>40.519951</td>\n",
       "      <td>-124.318205</td>\n",
       "      <td>32.421875</td>\n",
       "    </tr>\n",
       "    <tr>\n",
       "      <th>388</th>\n",
       "      <td>388</td>\n",
       "      <td>2022-12-20 23:58:38.996879+00:00</td>\n",
       "      <td>-0.473080</td>\n",
       "      <td>49.049534</td>\n",
       "      <td>29.296875</td>\n",
       "      <td>8</td>\n",
       "      <td>40.691714</td>\n",
       "      <td>-124.005597</td>\n",
       "      <td>29.296875</td>\n",
       "    </tr>\n",
       "  </tbody>\n",
       "</table>\n",
       "<p>389 rows × 9 columns</p>\n",
       "</div>"
      ],
      "text/plain": [
       "     idx                             time          x          y          z  \\\n",
       "0      0 2022-12-20 03:06:59.837898+00:00 -35.481024   6.994281  20.703125   \n",
       "1      1 2022-12-20 10:29:22.540804+00:00 -30.750221  17.007437  19.921875   \n",
       "2      2 2022-12-20 10:34:24.441170+00:00 -34.534864  40.037694  12.890625   \n",
       "3      3 2022-12-20 10:38:02.674132+00:00  -0.473080  46.045588  24.609375   \n",
       "4      4 2022-12-20 10:39:01.841587+00:00 -11.827008  31.025854  30.859375   \n",
       "..   ...                              ...        ...        ...        ...   \n",
       "384  384 2022-12-20 23:43:10.521341+00:00 -37.373345  35.031116  23.046875   \n",
       "385  385 2022-12-20 23:44:41.209464+00:00   5.203884  49.049534  30.078125   \n",
       "386  386 2022-12-20 23:49:22.043713+00:00 -11.827008  48.048219  28.515625   \n",
       "387  387 2022-12-20 23:52:09.677286+00:00 -26.965578  30.024539  32.421875   \n",
       "388  388 2022-12-20 23:58:38.996879+00:00  -0.473080  49.049534  29.296875   \n",
       "\n",
       "     picks   latitude   longitude      depth  \n",
       "0        8  40.312236 -124.417405  20.703125  \n",
       "1        8  40.402596 -124.362235  19.921875  \n",
       "2       11  40.609840 -124.408071  12.890625  \n",
       "3       15  40.664663 -124.005595  24.609375  \n",
       "4       15  40.529322 -124.139583  30.859375  \n",
       "..     ...        ...         ...        ...  \n",
       "384     12  40.564632 -124.441314  23.046875  \n",
       "385      9  40.691697 -123.938435  30.078125  \n",
       "386      9  40.682612 -124.139903  28.515625  \n",
       "387      8  40.519951 -124.318205  32.421875  \n",
       "388      8  40.691714 -124.005597  29.296875  \n",
       "\n",
       "[389 rows x 9 columns]"
      ]
     },
     "execution_count": 14,
     "metadata": {},
     "output_type": "execute_result"
    }
   ],
   "source": [
    "associator.transform_events(events)\n",
    "events[\"time\"] = events[\"time\"].apply(datetime.datetime.fromtimestamp, tz=datetime.timezone.utc)\n",
    "events"
   ]
  },
  {
   "cell_type": "code",
   "execution_count": 15,
   "id": "aa34f3fd-88dd-46eb-9ded-a02d8a49951e",
   "metadata": {
    "execution": {
     "iopub.execute_input": "2024-01-27T20:23:30.287214Z",
     "iopub.status.busy": "2024-01-27T20:23:30.286631Z",
     "iopub.status.idle": "2024-01-27T20:23:30.881392Z",
     "shell.execute_reply": "2024-01-27T20:23:30.880775Z",
     "shell.execute_reply.started": "2024-01-27T20:23:30.287186Z"
    }
   },
   "outputs": [
    {
     "data": {
      "image/png": "[encoded data removed]",
      "text/plain": [
       "<Figure size 1200x800 with 2 Axes>"
      ]
     },
     "metadata": {},
     "output_type": "display_data"
    }
   ],
   "source": [
    "fig = plt.figure(figsize=(12, 8))\n",
    "ax = fig.add_subplot(111, projection=ccrs.Mercator())\n",
    "ax.coastlines()\n",
    "gl = ax.gridlines(draw_labels=True)\n",
    "gl.bottom_labels = False\n",
    "gl.right_labels = False\n",
    "\n",
    "active_stations = set([x.trace_id.split(\".\")[1] for x in picks])\n",
    "\n",
    "cb = ax.scatter(events[\"longitude\"], events[\"latitude\"], c=events[\"depth\"], transform=ccrs.PlateCarree(), vmin=0, vmax=35)\n",
    "for sta in cand:\n",
    "    if sta.code in active_stations:\n",
    "        ax.plot(sta.longitude, sta.latitude, \"r^\", transform=ccrs.PlateCarree())\n",
    "ax.set_extent([minlon - 0.1, maxlon + 0.1, minlat + 0.2, maxlat + 0.1], crs=ccrs.PlateCarree())\n",
    "cax = fig.colorbar(cb, label=\"Depth [km]\")\n",
    "cax.ax.invert_yaxis()"
   ]
  },
  {
   "cell_type": "code",
   "execution_count": null,
   "id": "d50722fa-7704-40f0-8760-bcad622533d9",
   "metadata": {},
   "outputs": [],
   "source": []
  }
 ],
 "metadata": {
  "kernelspec": {
   "display_name": "Python 3 (ipykernel)",
   "language": "python",
   "name": "python3"
  },
  "language_info": {
   "codemirror_mode": {
    "name": "ipython",
    "version": 3
   },
   "file_extension": ".py",
   "mimetype": "text/x-python",
   "name": "python",
   "nbconvert_exporter": "python",
   "pygments_lexer": "ipython3",
   "version": "3.11.7"
  }
 },
 "nbformat": 4,
 "nbformat_minor": 5
}
