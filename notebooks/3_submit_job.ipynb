{
 "cells": [
  {
   "cell_type": "markdown",
   "id": "2dcb2ea7-9a2f-4edd-9bd8-82099bcabd02",
   "metadata": {},
   "source": [
    "# Stage 3: final check and submit jobs\n",
    "\n",
    "#### 🚀 Targets\n",
    "1. Do the final check to all parameters.\n",
    "2. Submit jobs.\n",
    "\n",
    "#### ⚠️ Checklist\n",
    "1. Make sure you have the appropriate compute and job defined (see [1_prepare_compute_env.ipynb](./1_prepare_compute_env.ipynb)).\n",
    "2. Make sure you have the DocumentDB running and station metadata populated (see [2_prepare_station_metadata.ipynb](./2_prepare_station_metadata.ipynb)).\n",
    "3. Make sure you populate all fields in [parameters.py](../sb_catalog/src/parameters.py).\n",
    "4. Plan the job you are submitting (don't submit them all together)."
   ]
  },
  {
   "cell_type": "code",
   "execution_count": null,
   "id": "1ff13dc3-c622-4a63-b009-2345aa52c88c",
   "metadata": {},
   "outputs": [],
   "source": [
    "import sys\n",
    "\n",
    "sys.path.append(\"../sb_catalog\")\n",
    "\n",
    "import os\n",
    "import glob\n",
    "import pandas as pd\n",
    "\n",
    "PYTHON = \"/home/ec2-user/miniconda/bin/python\"\n",
    "\n",
    "from src.constants import NETWORK_MAPPING\n",
    "from src.utils import parse_year_day"
   ]
  },
  {
   "cell_type": "code",
   "execution_count": null,
   "id": "9dcd5dc1-405e-4853-bdfb-5a0fc7d7d367",
   "metadata": {},
   "outputs": [],
   "source": [
    "# submit jobs by network code\n",
    "net = [i.split(\"/\")[-1].split(\".\")[0] for i in sorted(glob.glob(\"../networks/*.zip\"))]\n",
    "net = [i for i in net if NETWORK_MAPPING[i] == \"ncedc\"]\n",
    "\n",
    "net_str = \",\".join(net)\n",
    "start_date = \"2002.001\"\n",
    "end_date = \"2025.091\"\n",
    "\n",
    "print(\"Submitting job\")\n",
    "print(\"Network code: %s\" % net_str)\n",
    "print(\"Start date: %s\" % start_date)\n",
    "print(\"End date: %s\" % end_date)"
   ]
  },
  {
   "cell_type": "code",
   "execution_count": null,
   "id": "86687252-29cd-4af6-b2ee-935c5d2e2ce6",
   "metadata": {},
   "outputs": [],
   "source": [
    "os.system(f\"PYTHONPATH=../sb_catalog/ {PYTHON} -m src.submit_helper \"\\\n",
    "          f\"pick {start_date} {end_date} \"\\\n",
    "          f\"--network {net_str} \"\\\n",
    "          f\"--database earthscope\")"
   ]
  }
 ],
 "metadata": {
  "kernelspec": {
   "display_name": "Python 3 (ipykernel)",
   "language": "python",
   "name": "python3"
  },
  "language_info": {
   "codemirror_mode": {
    "name": "ipython",
    "version": 3
   },
   "file_extension": ".py",
   "mimetype": "text/x-python",
   "name": "python",
   "nbconvert_exporter": "python",
   "pygments_lexer": "ipython3",
   "version": "3.12.8"
  }
 },
 "nbformat": 4,
 "nbformat_minor": 5
}
