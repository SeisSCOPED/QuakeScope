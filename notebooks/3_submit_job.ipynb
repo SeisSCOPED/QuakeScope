{
 "cells": [
  {
   "cell_type": "markdown",
   "id": "2dcb2ea7-9a2f-4edd-9bd8-82099bcabd02",
   "metadata": {},
   "source": [
    "# Stage 3: final check and submit jobs\n",
    "\n",
    "#### 🚀 Targets\n",
    "1. Do the final check to all parameters.\n",
    "2. Submit jobs.\n",
    "\n",
    "#### ⚠️ Checklist\n",
    "1. Make sure you have the appropriate compute and job defined (see [1_prepare_compute_env.ipynb](./1_prepare_compute_env.ipynb)).\n",
    "2. Make sure you have the DocumentDB running and station metadata populated (see [2_prepare_station_metadata.ipynb](./2_prepare_station_metadata.ipynb)).\n",
    "3. Make sure you populate all fields in [parameters.py](../sb_catalog/src/parameters.py).\n",
    "4. Plan the job you are submitting (don't submit them all together)."
   ]
  },
  {
   "cell_type": "code",
   "execution_count": 1,
   "id": "1ff13dc3-c622-4a63-b009-2345aa52c88c",
   "metadata": {},
   "outputs": [],
   "source": [
    "import sys\n",
    "\n",
    "sys.path.append(\"../sb_catalog\")\n",
    "\n",
    "import os\n",
    "import glob\n",
    "import pandas as pd\n",
    "\n",
    "PYTHON = \"/home/ec2-user/miniconda/bin/python\"\n",
    "\n",
    "from src.constants import NETWORK_MAPPING\n",
    "from src.utils import parse_year_day"
   ]
  },
  {
   "cell_type": "code",
   "execution_count": 2,
   "id": "9dcd5dc1-405e-4853-bdfb-5a0fc7d7d367",
   "metadata": {},
   "outputs": [
    {
     "name": "stdout",
     "output_type": "stream",
     "text": [
      "Submitting job\n",
      "Network code: BG,BK,BP,NC,PG,WR\n",
      "Start date: 2002.001\n",
      "End date: 2025.091\n"
     ]
    }
   ],
   "source": [
    "# submit jobs by network code\n",
    "net = [i.split(\"/\")[-1].split(\".\")[0] for i in sorted(glob.glob(\"../networks/*.zip\"))]\n",
    "net = [i for i in net if NETWORK_MAPPING[i] == \"ncedc\"]\n",
    "\n",
    "net_str = \",\".join(net)\n",
    "start_date = \"2002.001\"\n",
    "end_date = \"2025.091\"\n",
    "\n",
    "print(\"Submitting job\")\n",
    "print(\"Network code: %s\" % net_str)\n",
    "print(\"Start date: %s\" % start_date)\n",
    "print(\"End date: %s\" % end_date)"
   ]
  },
  {
   "cell_type": "code",
   "execution_count": 3,
   "id": "86687252-29cd-4af6-b2ee-935c5d2e2ce6",
   "metadata": {},
   "outputs": [
    {
     "name": "stderr",
     "output_type": "stream",
     "text": [
      "2025-06-19 05:13:38,424 | submit_helper | INFO | EarthScope refresh token applied: KI4-ehO8WdlQEAFdM1TUQ3mCq6R7Nlcg0wWsdFi44fqyR\n",
      "/home/ec2-user/QuakeScope/sb_catalog/src/utils.py:22: UserWarning: You appear to be connected to a DocumentDB cluster. For more information regarding feature compatibility and support please visit https://www.mongodb.com/supportability/documentdb\n",
      "  super().__init__(db_uri, **kwargs)\n",
      "2025-06-19 05:13:39,236 | submit_helper | INFO | Starting picking jobs for 1623 stations and 8491 days\n",
      "2025-06-19 05:13:39,564 | submit_helper | INFO | 0 jobs submitted in total.\n",
      "2025-06-19 05:13:39,564 | submit_helper | INFO | See ../submissions/picking_2025-06-18T22-13.csv for logging.\n"
     ]
    },
    {
     "data": {
      "text/plain": [
       "0"
      ]
     },
     "execution_count": 3,
     "metadata": {},
     "output_type": "execute_result"
    }
   ],
   "source": [
    "os.system(f\"PYTHONPATH=../sb_catalog/ {PYTHON} -m src.submit_helper \"\\\n",
    "          f\"pick {start_date} {end_date} \"\\\n",
    "          f\"--network {net_str} \"\\\n",
    "          f\"--database earthscope\")"
   ]
  },
  {
   "cell_type": "code",
   "execution_count": null,
   "id": "9f8fb71b-f16c-49b8-91c9-c2f4afb63812",
   "metadata": {},
   "outputs": [],
   "source": []
  }
 ],
 "metadata": {
  "kernelspec": {
   "display_name": "Python 3 (ipykernel)",
   "language": "python",
   "name": "python3"
  },
  "language_info": {
   "codemirror_mode": {
    "name": "ipython",
    "version": 3
   },
   "file_extension": ".py",
   "mimetype": "text/x-python",
   "name": "python",
   "nbconvert_exporter": "python",
   "pygments_lexer": "ipython3",
   "version": "3.12.8"
  }
 },
 "nbformat": 4,
 "nbformat_minor": 5
}
