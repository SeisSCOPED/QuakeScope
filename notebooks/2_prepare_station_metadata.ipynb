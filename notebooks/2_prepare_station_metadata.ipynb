{
 "cells": [
  {
   "cell_type": "markdown",
   "id": "0df1237b-7b52-433e-b505-fe8e934f7dfb",
   "metadata": {},
   "source": [
    "# Stage 2: prepare station metadata in the DocumentDB\n",
    "\n",
    "#### 🚀 Targets\n",
    "1. Check the DocumentDB implementation (with correct URI and r/w permission).\n",
    "2. Populate the DocumentDB with station metadata.\n",
    "\n",
    "#### ⚠️ Checklist\n",
    "1. Make sure you have the DocumentDB cluster running and the `DOCDB_ENDPOINT_URI` in [parameters.py](../sb_catalog/src/parameters.py) has been filled properly.\n",
    "2. This notebook has to be running on an EC2 instance, under the same VPC & security group as the DocumentDB cluster.\n",
    "3. Make sure a key file `global-bundle.pem` exist in your current directory. If not, download it using the command below.\n",
    "   ```\n",
    "       $ wget https://truststore.pki.rds.amazonaws.com/global/global-bundle.pem\n",
    "   ```"
   ]
  },
  {
   "cell_type": "code",
   "execution_count": null,
   "id": "cd14d6e0-8f68-4026-8da7-64428718dea0",
   "metadata": {},
   "outputs": [],
   "source": [
    "import sys\n",
    "import pandas as pd\n",
    "\n",
    "sys.path.append(\"../sb_catalog\")\n",
    "\n",
    "from src.parameters import DOCDB_ENDPOINT_URI\n",
    "from src.utils import SeisBenchDatabase"
   ]
  },
  {
   "cell_type": "markdown",
   "id": "b327f8c7-3da5-4478-8c61-fb53b019613c",
   "metadata": {},
   "source": [
    "## 1. Populate the DocumentDB\n",
    "\n",
    "Connect to the DocumentDB and write the station metadata."
   ]
  },
  {
   "cell_type": "code",
   "execution_count": null,
   "id": "6da78e26-e64c-476f-8bee-b23daaa6ad12",
   "metadata": {},
   "outputs": [],
   "source": [
    "db = SeisBenchDatabase(DOCDB_ENDPOINT_URI, \"earthscope\")"
   ]
  },
  {
   "cell_type": "code",
   "execution_count": null,
   "id": "533ffb27-0154-4e22-b161-124251013bfc",
   "metadata": {},
   "outputs": [],
   "source": [
    "for netfile in tqdm(sorted(glob.glob(\"../networks/*.zip\"))):\n",
    "    stations = pd.read_csv(netfile)\n",
    "    for i, s in stations.iterrows():\n",
    "        cha = stations.loc[i, \"channels\"]\n",
    "        cha = list(set([i[:2] for i in cha.split(\",\")]))\n",
    "        stations.loc[i, \"channels\"] = \",\".join(cha)\n",
    "    stations.location_code = stations.apply(lambda s: s.id.split('.')[-1], axis = 1)\n",
    "    db.write_stations(stations)"
   ]
  },
  {
   "cell_type": "markdown",
   "id": "87e3552f-430a-4734-b4a6-632fd16eaf27",
   "metadata": {},
   "source": [
    "## 2. Check the DocumentDB\n",
    "\n",
    "Just to make sure that the DB has been populated with the station metadata, and we are able to read from it."
   ]
  },
  {
   "cell_type": "code",
   "execution_count": null,
   "id": "8c07186d-04cb-45fe-b5fe-b21429deb162",
   "metadata": {},
   "outputs": [],
   "source": [
    "network = \"BG,BK,BP,NC,PG,WR\"\n",
    "db.get_stations(None, network)"
   ]
  }
 ],
 "metadata": {
  "kernelspec": {
   "display_name": "Python 3 (ipykernel)",
   "language": "python",
   "name": "python3"
  },
  "language_info": {
   "codemirror_mode": {
    "name": "ipython",
    "version": 3
   },
   "file_extension": ".py",
   "mimetype": "text/x-python",
   "name": "python",
   "nbconvert_exporter": "python",
   "pygments_lexer": "ipython3",
   "version": "3.12.8"
  }
 },
 "nbformat": 4,
 "nbformat_minor": 5
}
