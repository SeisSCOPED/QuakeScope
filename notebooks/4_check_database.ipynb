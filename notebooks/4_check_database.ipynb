{
 "cells": [
  {
   "cell_type": "markdown",
   "id": "6d021d1c-1fd6-4410-8edf-15cb72fc2ed1",
   "metadata": {},
   "source": [
    "# Stage 4: check the DocumentDB status\n",
    "\n",
    "#### 🚀 Targets\n",
    "1. As jobs running, we are expecting picks being sent from those instances.\n",
    "2. We will be able to do some basic db query here."
   ]
  },
  {
   "cell_type": "code",
   "execution_count": 1,
   "id": "ec453ffc-0766-4ccc-89cd-0e8ec3365516",
   "metadata": {},
   "outputs": [],
   "source": [
    "import os, sys\n",
    "sys.path.append(\"../sb_catalog\")\n",
    "\n",
    "from src.utils import SeisBenchDatabase, parse_year_day\n",
    "from src.parameters import DOCDB_ENDPOINT_URI"
   ]
  },
  {
   "cell_type": "markdown",
   "id": "069448c0-6657-4202-b930-3374c04d793a",
   "metadata": {},
   "source": [
    "## overview\n",
    "\n",
    "We are expecting collections being listed:\n",
    "- classifies\n",
    "- picks\n",
    "- picks_record\n",
    "- sb_runs\n",
    "- stations"
   ]
  },
  {
   "cell_type": "code",
   "execution_count": 2,
   "id": "c56781f3-b81a-4560-8592-77e29c7d6931",
   "metadata": {},
   "outputs": [
    {
     "name": "stdout",
     "output_type": "stream",
     "text": [
      "[{'name': 'earthscope', 'sizeOnDisk': 2582777053184.0, 'empty': False}]\n",
      "['classifies', 'picks', 'picks_record', 'sb_runs', 'stations']\n"
     ]
    },
    {
     "name": "stderr",
     "output_type": "stream",
     "text": [
      "/home/ec2-user/QuakeScope/notebooks/../sb_catalog/src/utils.py:22: UserWarning: You appear to be connected to a DocumentDB cluster. For more information regarding feature compatibility and support please visit https://www.mongodb.com/supportability/documentdb\n",
      "  super().__init__(db_uri, **kwargs)\n"
     ]
    }
   ],
   "source": [
    "sbc = SeisBenchDatabase(DOCDB_ENDPOINT_URI, \"earthscope\")\n",
    "print(list(sbc.list_databases()))\n",
    "print(sbc.earthscope.list_collection_names())"
   ]
  },
  {
   "cell_type": "markdown",
   "id": "e068eaac-3cec-4091-ab67-63f8f0c18474",
   "metadata": {},
   "source": [
    "## stations"
   ]
  },
  {
   "cell_type": "code",
   "execution_count": 33,
   "id": "dc67cad6-7c84-45fe-99bd-c6e175aacb8d",
   "metadata": {},
   "outputs": [
    {
     "data": {
      "text/html": [
       "<div>\n",
       "<style scoped>\n",
       "    .dataframe tbody tr th:only-of-type {\n",
       "        vertical-align: middle;\n",
       "    }\n",
       "\n",
       "    .dataframe tbody tr th {\n",
       "        vertical-align: top;\n",
       "    }\n",
       "\n",
       "    .dataframe thead th {\n",
       "        text-align: right;\n",
       "    }\n",
       "</style>\n",
       "<table border=\"1\" class=\"dataframe\">\n",
       "  <thead>\n",
       "    <tr style=\"text-align: right;\">\n",
       "      <th></th>\n",
       "      <th>_id</th>\n",
       "      <th>id</th>\n",
       "      <th>network_code</th>\n",
       "      <th>station_code</th>\n",
       "      <th>location_code</th>\n",
       "      <th>channels</th>\n",
       "      <th>latitude</th>\n",
       "      <th>longitude</th>\n",
       "      <th>elevation</th>\n",
       "      <th>start_date</th>\n",
       "      <th>end_date</th>\n",
       "    </tr>\n",
       "  </thead>\n",
       "  <tbody>\n",
       "    <tr>\n",
       "      <th>0</th>\n",
       "      <td>67f69a1f1ca772a0aa21aa46</td>\n",
       "      <td>1A.BOC1.</td>\n",
       "      <td>1A</td>\n",
       "      <td>BOC1</td>\n",
       "      <td></td>\n",
       "      <td>EH</td>\n",
       "      <td>35.256200</td>\n",
       "      <td>-111.623200</td>\n",
       "      <td>2256.0</td>\n",
       "      <td>2019.227</td>\n",
       "      <td>2019.326</td>\n",
       "    </tr>\n",
       "    <tr>\n",
       "      <th>1</th>\n",
       "      <td>67f69a1f1ca772a0aa21aa47</td>\n",
       "      <td>1A.BOC2.</td>\n",
       "      <td>1A</td>\n",
       "      <td>BOC2</td>\n",
       "      <td></td>\n",
       "      <td>EH,SH</td>\n",
       "      <td>35.256100</td>\n",
       "      <td>-111.623600</td>\n",
       "      <td>2347.0</td>\n",
       "      <td>2020.168</td>\n",
       "      <td>2020.316</td>\n",
       "    </tr>\n",
       "    <tr>\n",
       "      <th>2</th>\n",
       "      <td>67f69a1f1ca772a0aa21aa48</td>\n",
       "      <td>1A.C18A.</td>\n",
       "      <td>1A</td>\n",
       "      <td>C18A</td>\n",
       "      <td></td>\n",
       "      <td>EH</td>\n",
       "      <td>35.258200</td>\n",
       "      <td>-111.608000</td>\n",
       "      <td>2608.0</td>\n",
       "      <td>2019.225</td>\n",
       "      <td>2019.329</td>\n",
       "    </tr>\n",
       "    <tr>\n",
       "      <th>3</th>\n",
       "      <td>67f69a1f1ca772a0aa21aa49</td>\n",
       "      <td>1A.C19A.</td>\n",
       "      <td>1A</td>\n",
       "      <td>C19A</td>\n",
       "      <td></td>\n",
       "      <td>EH</td>\n",
       "      <td>35.256300</td>\n",
       "      <td>-111.608700</td>\n",
       "      <td>2621.0</td>\n",
       "      <td>2019.225</td>\n",
       "      <td>2019.283</td>\n",
       "    </tr>\n",
       "    <tr>\n",
       "      <th>4</th>\n",
       "      <td>67f69a1f1ca772a0aa21aa4a</td>\n",
       "      <td>1A.C19B.</td>\n",
       "      <td>1A</td>\n",
       "      <td>C19B</td>\n",
       "      <td></td>\n",
       "      <td>EH</td>\n",
       "      <td>35.255700</td>\n",
       "      <td>-111.608400</td>\n",
       "      <td>2637.0</td>\n",
       "      <td>2019.225</td>\n",
       "      <td>2019.327</td>\n",
       "    </tr>\n",
       "    <tr>\n",
       "      <th>...</th>\n",
       "      <td>...</td>\n",
       "      <td>...</td>\n",
       "      <td>...</td>\n",
       "      <td>...</td>\n",
       "      <td>...</td>\n",
       "      <td>...</td>\n",
       "      <td>...</td>\n",
       "      <td>...</td>\n",
       "      <td>...</td>\n",
       "      <td>...</td>\n",
       "      <td>...</td>\n",
       "    </tr>\n",
       "    <tr>\n",
       "      <th>57751</th>\n",
       "      <td>67fb432e8575352fefb17873</td>\n",
       "      <td>WR.STNI.10</td>\n",
       "      <td>WR</td>\n",
       "      <td>STNI</td>\n",
       "      <td>10</td>\n",
       "      <td>HN</td>\n",
       "      <td>38.119688</td>\n",
       "      <td>-121.540149</td>\n",
       "      <td>3.1</td>\n",
       "      <td>1995.047</td>\n",
       "      <td>3000.001</td>\n",
       "    </tr>\n",
       "    <tr>\n",
       "      <th>57752</th>\n",
       "      <td>67fb432e8575352fefb17874</td>\n",
       "      <td>WR.THER.02</td>\n",
       "      <td>WR</td>\n",
       "      <td>THER</td>\n",
       "      <td>02</td>\n",
       "      <td>HN</td>\n",
       "      <td>39.484103</td>\n",
       "      <td>-121.688221</td>\n",
       "      <td>36.7</td>\n",
       "      <td>1981.007</td>\n",
       "      <td>3000.001</td>\n",
       "    </tr>\n",
       "    <tr>\n",
       "      <th>57753</th>\n",
       "      <td>67fb432e8575352fefb17875</td>\n",
       "      <td>WR.THER.00</td>\n",
       "      <td>WR</td>\n",
       "      <td>THER</td>\n",
       "      <td>00</td>\n",
       "      <td>HN</td>\n",
       "      <td>39.484103</td>\n",
       "      <td>-121.688221</td>\n",
       "      <td>36.7</td>\n",
       "      <td>1981.007</td>\n",
       "      <td>3000.001</td>\n",
       "    </tr>\n",
       "    <tr>\n",
       "      <th>57754</th>\n",
       "      <td>67fb432e8575352fefb17876</td>\n",
       "      <td>WR.THER.01</td>\n",
       "      <td>WR</td>\n",
       "      <td>THER</td>\n",
       "      <td>01</td>\n",
       "      <td>HN</td>\n",
       "      <td>39.484103</td>\n",
       "      <td>-121.688221</td>\n",
       "      <td>36.7</td>\n",
       "      <td>1981.007</td>\n",
       "      <td>3000.001</td>\n",
       "    </tr>\n",
       "    <tr>\n",
       "      <th>57755</th>\n",
       "      <td>67fb432e8575352fefb17877</td>\n",
       "      <td>WR.THER.03</td>\n",
       "      <td>WR</td>\n",
       "      <td>THER</td>\n",
       "      <td>03</td>\n",
       "      <td>HN</td>\n",
       "      <td>39.484103</td>\n",
       "      <td>-121.688221</td>\n",
       "      <td>36.7</td>\n",
       "      <td>1981.007</td>\n",
       "      <td>3000.001</td>\n",
       "    </tr>\n",
       "  </tbody>\n",
       "</table>\n",
       "<p>57756 rows × 11 columns</p>\n",
       "</div>"
      ],
      "text/plain": [
       "                            _id          id network_code station_code  \\\n",
       "0      67f69a1f1ca772a0aa21aa46    1A.BOC1.           1A         BOC1   \n",
       "1      67f69a1f1ca772a0aa21aa47    1A.BOC2.           1A         BOC2   \n",
       "2      67f69a1f1ca772a0aa21aa48    1A.C18A.           1A         C18A   \n",
       "3      67f69a1f1ca772a0aa21aa49    1A.C19A.           1A         C19A   \n",
       "4      67f69a1f1ca772a0aa21aa4a    1A.C19B.           1A         C19B   \n",
       "...                         ...         ...          ...          ...   \n",
       "57751  67fb432e8575352fefb17873  WR.STNI.10           WR         STNI   \n",
       "57752  67fb432e8575352fefb17874  WR.THER.02           WR         THER   \n",
       "57753  67fb432e8575352fefb17875  WR.THER.00           WR         THER   \n",
       "57754  67fb432e8575352fefb17876  WR.THER.01           WR         THER   \n",
       "57755  67fb432e8575352fefb17877  WR.THER.03           WR         THER   \n",
       "\n",
       "      location_code channels   latitude   longitude  elevation  start_date  \\\n",
       "0                         EH  35.256200 -111.623200     2256.0    2019.227   \n",
       "1                      EH,SH  35.256100 -111.623600     2347.0    2020.168   \n",
       "2                         EH  35.258200 -111.608000     2608.0    2019.225   \n",
       "3                         EH  35.256300 -111.608700     2621.0    2019.225   \n",
       "4                         EH  35.255700 -111.608400     2637.0    2019.225   \n",
       "...             ...      ...        ...         ...        ...         ...   \n",
       "57751            10       HN  38.119688 -121.540149        3.1    1995.047   \n",
       "57752            02       HN  39.484103 -121.688221       36.7    1981.007   \n",
       "57753            00       HN  39.484103 -121.688221       36.7    1981.007   \n",
       "57754            01       HN  39.484103 -121.688221       36.7    1981.007   \n",
       "57755            03       HN  39.484103 -121.688221       36.7    1981.007   \n",
       "\n",
       "       end_date  \n",
       "0      2019.326  \n",
       "1      2020.316  \n",
       "2      2019.329  \n",
       "3      2019.283  \n",
       "4      2019.327  \n",
       "...         ...  \n",
       "57751  3000.001  \n",
       "57752  3000.001  \n",
       "57753  3000.001  \n",
       "57754  3000.001  \n",
       "57755  3000.001  \n",
       "\n",
       "[57756 rows x 11 columns]"
      ]
     },
     "execution_count": 33,
     "metadata": {},
     "output_type": "execute_result"
    }
   ],
   "source": [
    "# NCEDC: CI\n",
    "# SCEDC: BG,BK,BP,NC,PG,UL,WR\n",
    "stations = sbc.get_stations()\n",
    "# stations = filter_station_by_start_end_date(stations, parse_year_day(\"2002.001\"), parse_year_day(\"2003.001\"))\n",
    "# stations = stations[stations[\"station_code\"] == \"PAYG\"]\n",
    "stations"
   ]
  },
  {
   "cell_type": "markdown",
   "id": "0bc7437f-dedd-4205-8402-1674f6571386",
   "metadata": {},
   "source": [
    "## picks"
   ]
  },
  {
   "cell_type": "code",
   "execution_count": 3,
   "id": "d8edf205-78e0-496e-af74-afea91a927f0",
   "metadata": {},
   "outputs": [
    {
     "data": {
      "text/plain": [
       "4332033038"
      ]
     },
     "execution_count": 3,
     "metadata": {},
     "output_type": "execute_result"
    }
   ],
   "source": [
    "sbc.earthscope.picks.estimated_document_count({})"
   ]
  },
  {
   "cell_type": "markdown",
   "id": "dd8beb55-4fcd-4712-b04b-58b2cc0b2510",
   "metadata": {},
   "source": [
    "## classifies"
   ]
  },
  {
   "cell_type": "code",
   "execution_count": 7,
   "id": "8faf5de7-4901-42ac-828c-1edf76930b11",
   "metadata": {},
   "outputs": [
    {
     "data": {
      "text/plain": [
       "1216893816"
      ]
     },
     "execution_count": 7,
     "metadata": {},
     "output_type": "execute_result"
    }
   ],
   "source": [
    "sbc.earthscope.classifies.estimated_document_count({})"
   ]
  },
  {
   "cell_type": "markdown",
   "id": "e89a34cc-2fca-44b1-84d6-3003e690a4b4",
   "metadata": {},
   "source": [
    "## picks_record"
   ]
  },
  {
   "cell_type": "code",
   "execution_count": 4,
   "id": "44805f46-54c8-4e7c-8eab-1df9aa6bea6e",
   "metadata": {},
   "outputs": [
    {
     "data": {
      "text/plain": [
       "37946347"
      ]
     },
     "execution_count": 4,
     "metadata": {},
     "output_type": "execute_result"
    }
   ],
   "source": [
    "sbc.earthscope.picks_record.estimated_document_count({})"
   ]
  },
  {
   "cell_type": "markdown",
   "id": "cf9549c0-e025-4d01-a81a-75fe4caf176f",
   "metadata": {},
   "source": [
    "## ⚠️ DANGER ZONE - wipe out DocumentDB collection(s)"
   ]
  },
  {
   "cell_type": "code",
   "execution_count": null,
   "id": "8a335586-6923-49b9-8241-2fd7eb501c0d",
   "metadata": {},
   "outputs": [],
   "source": [
    "# # delete picks for a station\n",
    "# # for ix, i in df.iterrows():\n",
    "# #     x = sbc.earthscope.classifies.delete_many({\"tid\": i.id})\n",
    "# #     x = sbc.earthscope.picks.delete_many({\"tid\": i.id})\n",
    "# #     x = sbc.earthscope.picks_record.delete_many({\"tid\": i.id})\n",
    "# #     print(x.deleted_count, f\" documents deleted from {i.id}\")"
   ]
  },
  {
   "cell_type": "code",
   "execution_count": 34,
   "id": "ea140753-9187-47d6-94e8-a01a37c5e537",
   "metadata": {},
   "outputs": [
    {
     "data": {
      "text/plain": [
       "{'ok': 1.0, 'operationTime': Timestamp(1744217124, 1)}"
      ]
     },
     "execution_count": 34,
     "metadata": {},
     "output_type": "execute_result"
    }
   ],
   "source": [
    "# # sbc.earthscope.drop_collection(\"stations\")\n",
    "# # sbc.earthscope.drop_collection(\"picks\")\n",
    "# # sbc.earthscope.drop_collection(\"classifies\")\n",
    "# # sbc.earthscope.drop_collection(\"picks_record\")\n",
    "# # sbc.earthscope.drop_collection(\"sb_runs\")"
   ]
  }
 ],
 "metadata": {
  "kernelspec": {
   "display_name": "Python 3 (ipykernel)",
   "language": "python",
   "name": "python3"
  },
  "language_info": {
   "codemirror_mode": {
    "name": "ipython",
    "version": 3
   },
   "file_extension": ".py",
   "mimetype": "text/x-python",
   "name": "python",
   "nbconvert_exporter": "python",
   "pygments_lexer": "ipython3",
   "version": "3.12.8"
  }
 },
 "nbformat": 4,
 "nbformat_minor": 5
}
