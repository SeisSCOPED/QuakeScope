{
 "cells": [
  {
   "cell_type": "markdown",
   "id": "6d021d1c-1fd6-4410-8edf-15cb72fc2ed1",
   "metadata": {},
   "source": [
    "# Stage 4: check the DocumentDB status\n",
    "\n",
    "#### 🚀 Targets\n",
    "1. As jobs running, we are expecting picks being sent from those instances.\n",
    "2. We will be able to do some basic db query here."
   ]
  },
  {
   "cell_type": "code",
   "execution_count": null,
   "id": "ec453ffc-0766-4ccc-89cd-0e8ec3365516",
   "metadata": {},
   "outputs": [],
   "source": [
    "import os, sys\n",
    "sys.path.append(\"../sb_catalog\")\n",
    "\n",
    "from src.utils import SeisBenchDatabase, parse_year_day\n",
    "from src.parameters import DOCDB_ENDPOINT_URI"
   ]
  },
  {
   "cell_type": "markdown",
   "id": "069448c0-6657-4202-b930-3374c04d793a",
   "metadata": {},
   "source": [
    "## overview\n",
    "\n",
    "We are expecting collections being listed:\n",
    "- classifies\n",
    "- picks\n",
    "- picks_record\n",
    "- sb_runs\n",
    "- stations"
   ]
  },
  {
   "cell_type": "code",
   "execution_count": null,
   "id": "c56781f3-b81a-4560-8592-77e29c7d6931",
   "metadata": {},
   "outputs": [],
   "source": [
    "sbc = SeisBenchDatabase(DOCDB_ENDPOINT_URI, \"earthscope\")\n",
    "print(list(sbc.list_databases()))\n",
    "print(sbc.earthscope.list_collection_names())"
   ]
  },
  {
   "cell_type": "markdown",
   "id": "e068eaac-3cec-4091-ab67-63f8f0c18474",
   "metadata": {},
   "source": [
    "## stations"
   ]
  },
  {
   "cell_type": "code",
   "execution_count": null,
   "id": "dc67cad6-7c84-45fe-99bd-c6e175aacb8d",
   "metadata": {},
   "outputs": [],
   "source": [
    "# NCEDC: CI\n",
    "# SCEDC: BG,BK,BP,NC,PG,UL,WR\n",
    "stations = sbc.get_stations()\n",
    "# stations = filter_station_by_start_end_date(stations, parse_year_day(\"2002.001\"), parse_year_day(\"2003.001\"))\n",
    "# stations = stations[stations[\"station_code\"] == \"PAYG\"]\n",
    "stations"
   ]
  },
  {
   "cell_type": "markdown",
   "id": "0bc7437f-dedd-4205-8402-1674f6571386",
   "metadata": {},
   "source": [
    "## picks"
   ]
  },
  {
   "cell_type": "code",
   "execution_count": null,
   "id": "d8edf205-78e0-496e-af74-afea91a927f0",
   "metadata": {},
   "outputs": [],
   "source": [
    "sbc.earthscope.picks.estimated_document_count({})"
   ]
  },
  {
   "cell_type": "markdown",
   "id": "dd8beb55-4fcd-4712-b04b-58b2cc0b2510",
   "metadata": {},
   "source": [
    "## classifies"
   ]
  },
  {
   "cell_type": "code",
   "execution_count": null,
   "id": "8faf5de7-4901-42ac-828c-1edf76930b11",
   "metadata": {},
   "outputs": [],
   "source": [
    "sbc.earthscope.classifies.estimated_document_count({})"
   ]
  },
  {
   "cell_type": "markdown",
   "id": "e89a34cc-2fca-44b1-84d6-3003e690a4b4",
   "metadata": {},
   "source": [
    "## picks_record"
   ]
  },
  {
   "cell_type": "code",
   "execution_count": null,
   "id": "44805f46-54c8-4e7c-8eab-1df9aa6bea6e",
   "metadata": {},
   "outputs": [],
   "source": [
    "sbc.earthscope.picks_record.estimated_document_count({})"
   ]
  },
  {
   "cell_type": "markdown",
   "id": "cf9549c0-e025-4d01-a81a-75fe4caf176f",
   "metadata": {},
   "source": [
    "## ⚠️ DANGER ZONE - wipe out DocumentDB collection(s)"
   ]
  },
  {
   "cell_type": "code",
   "execution_count": null,
   "id": "8a335586-6923-49b9-8241-2fd7eb501c0d",
   "metadata": {},
   "outputs": [],
   "source": [
    "# # delete picks for a station\n",
    "# # for ix, i in df.iterrows():\n",
    "# #     x = sbc.earthscope.classifies.delete_many({\"tid\": i.id})\n",
    "# #     x = sbc.earthscope.picks.delete_many({\"tid\": i.id})\n",
    "# #     x = sbc.earthscope.picks_record.delete_many({\"tid\": i.id})\n",
    "# #     print(x.deleted_count, f\" documents deleted from {i.id}\")"
   ]
  },
  {
   "cell_type": "code",
   "execution_count": null,
   "id": "ea140753-9187-47d6-94e8-a01a37c5e537",
   "metadata": {},
   "outputs": [],
   "source": [
    "# # sbc.earthscope.drop_collection(\"stations\")\n",
    "# # sbc.earthscope.drop_collection(\"picks\")\n",
    "# # sbc.earthscope.drop_collection(\"classifies\")\n",
    "# # sbc.earthscope.drop_collection(\"picks_record\")\n",
    "# # sbc.earthscope.drop_collection(\"sb_runs\")"
   ]
  }
 ],
 "metadata": {
  "kernelspec": {
   "display_name": "Python 3 (ipykernel)",
   "language": "python",
   "name": "python3"
  },
  "language_info": {
   "codemirror_mode": {
    "name": "ipython",
    "version": 3
   },
   "file_extension": ".py",
   "mimetype": "text/x-python",
   "name": "python",
   "nbconvert_exporter": "python",
   "pygments_lexer": "ipython3",
   "version": "3.12.8"
  }
 },
 "nbformat": 4,
 "nbformat_minor": 5
}
