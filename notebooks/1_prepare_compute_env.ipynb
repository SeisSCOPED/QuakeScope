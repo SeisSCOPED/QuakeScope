{
 "cells": [
  {
   "cell_type": "markdown",
   "id": "ef67de61-344b-4d81-9069-75f071bc8b71",
   "metadata": {},
   "source": [
    "# Stage 1: setup compute environment and job queue\n",
    "\n",
    "#### 🚀 Targets\n",
    "1. Access AWS account through command-line interface (CLI).\n",
    "2. Prepare the compute environment in the Batch service.\n",
    "\n",
    "#### ⚠️ Checklist\n",
    "1. Make sure you have the proper credential set up at ~/.aws/credentials or /root/.aws/credentials.\n",
    "2. Make sure you have the AWS CLI installed."
   ]
  },
  {
   "cell_type": "code",
   "execution_count": 1,
   "id": "fb9a7e9f-6126-4460-a88d-ee0d133f7f46",
   "metadata": {},
   "outputs": [
    {
     "name": "stdout",
     "output_type": "stream",
     "text": [
      "aws-cli/2.17.18 Python/3.9.20 Linux/6.1.128-136.201.amzn2023.x86_64 source/x86_64.amzn.2023\n"
     ]
    }
   ],
   "source": [
    "! aws --version"
   ]
  },
  {
   "cell_type": "code",
   "execution_count": 2,
   "id": "917112e9-deb9-4e16-b7d4-f0a06ed70dd5",
   "metadata": {},
   "outputs": [
    {
     "name": "stdout",
     "output_type": "stream",
     "text": [
      "      Name                    Value             Type    Location\n",
      "      ----                    -----             ----    --------\n",
      "   profile                <not set>             None    None\n",
      "access_key     ****************464H shared-credentials-file    \n",
      "secret_key     ****************utD0 shared-credentials-file    \n",
      "    region                us-east-2      config-file    ~/.aws/config\n"
     ]
    }
   ],
   "source": [
    "! aws configure list"
   ]
  },
  {
   "cell_type": "code",
   "execution_count": 10,
   "id": "9bfdf46b-baf0-464c-b577-e6bc84407c54",
   "metadata": {},
   "outputs": [
    {
     "name": "stdout",
     "output_type": "stream",
     "text": [
      "List of subnet ID:\n",
      "\u001b[0;32m\"subnet-4f37fd32\"\u001b[0m\n",
      "\u001b[0;32m\"subnet-f85fc393\"\u001b[0m\n",
      "\u001b[0;32m\"subnet-2b635e67\"\u001b[0m\n",
      "====================\n",
      "List of security group ID:\n",
      "\u001b[0;32m\"sg-df946c93\"\u001b[0m\n"
     ]
    }
   ],
   "source": [
    "print(\"List of subnet ID:\")\n",
    "! aws ec2 describe-subnets  | jq \".Subnets[] | .SubnetId\"\n",
    "\n",
    "print(\"=\"*20)\n",
    "print(\"List of security group ID:\")\n",
    "! aws ec2 describe-security-groups --filters \"Name=group-name,Values=default\" | jq \".SecurityGroups[0].GroupId\""
   ]
  },
  {
   "cell_type": "markdown",
   "id": "d57870a3-1a01-4b01-9e40-34f48f4ac0b3",
   "metadata": {},
   "source": [
    "## Edit the config files and create computing environments\n",
    "\n",
    "All configuration files are saved in **sb_catalog/configs**."
   ]
  },
  {
   "cell_type": "markdown",
   "id": "67335ba1-4390-42ad-830c-f187aed59449",
   "metadata": {},
   "source": [
    "1. Create a new compute environment by first editing the config file [compute_environment.yaml](../sb_catalog/configs/compute_environment.yaml), and then running the cell below. Please add all available subnets from above."
   ]
  },
  {
   "cell_type": "code",
   "execution_count": 1,
   "id": "1449f337-2e27-47c6-a848-3c95e995ba1c",
   "metadata": {},
   "outputs": [
    {
     "name": "stdout",
     "output_type": "stream",
     "text": [
      "\n",
      "An error occurred (ClientException) when calling the CreateComputeEnvironment operation: Object already exists\n"
     ]
    }
   ],
   "source": [
    "! aws batch create-compute-environment --no-cli-pager --cli-input-yaml file://../sb_catalog/configs/compute_environment.yaml"
   ]
  },
  {
   "cell_type": "markdown",
   "id": "a11f5ced-ab88-4f21-9b1e-782ea91a95cd",
   "metadata": {},
   "source": [
    "2. Create a new job queue by first editing the config file [job_queue.yaml](../sb_catalog/configs/job_queue.yaml), and running the cell below."
   ]
  },
  {
   "cell_type": "code",
   "execution_count": 2,
   "id": "252bef0c-6680-42b0-bb0f-d168e1f5b485",
   "metadata": {},
   "outputs": [
    {
     "name": "stdout",
     "output_type": "stream",
     "text": [
      "{\n",
      "    \"jobQueueName\": \"niyiyu_earthscope_ncedc\",\n",
      "    \"jobQueueArn\": \"arn:aws:batch:us-east-2:073795725844:job-queue/niyiyu_earthscope_ncedc\"\n",
      "}\n"
     ]
    }
   ],
   "source": [
    "! aws batch create-job-queue --no-cli-pager --cli-input-yaml file://../sb_catalog/configs/job_queue.yaml"
   ]
  },
  {
   "cell_type": "markdown",
   "id": "191f3d64-8266-40bd-9d7c-78fe5d0a313d",
   "metadata": {},
   "source": [
    "3. Define the picking job by first editing the config file [job_definition_picking.yaml](../sb_catalog/configs/job_definition_picking.yaml), and running the cell below."
   ]
  },
  {
   "cell_type": "code",
   "execution_count": 1,
   "id": "f9b73c0e-febd-4a4b-b2c6-b9178df9a640",
   "metadata": {},
   "outputs": [
    {
     "name": "stdout",
     "output_type": "stream",
     "text": [
      "{\n",
      "    \"jobDefinitionName\": \"niyiyu_earthscope_picking_huge_mem\",\n",
      "    \"jobDefinitionArn\": \"arn:aws:batch:us-east-2:073795725844:job-definition/niyiyu_earthscope_picking_huge_mem:1\",\n",
      "    \"revision\": 1\n",
      "}\n"
     ]
    }
   ],
   "source": [
    "! aws batch register-job-definition --no-cli-pager --cli-input-yaml file://../sb_catalog/configs/job_definition_picking.yaml"
   ]
  }
 ],
 "metadata": {
  "kernelspec": {
   "display_name": "Python 3 (ipykernel)",
   "language": "python",
   "name": "python3"
  },
  "language_info": {
   "codemirror_mode": {
    "name": "ipython",
    "version": 3
   },
   "file_extension": ".py",
   "mimetype": "text/x-python",
   "name": "python",
   "nbconvert_exporter": "python",
   "pygments_lexer": "ipython3",
   "version": "3.12.8"
  }
 },
 "nbformat": 4,
 "nbformat_minor": 5
}
