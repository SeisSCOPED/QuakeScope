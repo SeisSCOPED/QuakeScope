{
 "cells": [
  {
   "cell_type": "markdown",
   "id": "ef67de61-344b-4d81-9069-75f071bc8b71",
   "metadata": {},
   "source": [
    "# Stage 1: setup account, compute environment and job queue\n",
    "\n",
    "#### 🚀 Targets\n",
    "1. Access AWS account through command-line interface (CLI).\n",
    "2. Prepare the compute environment and job role for the Batch service."
   ]
  },
  {
   "cell_type": "markdown",
   "id": "bb82e02d-a103-475d-8834-4f9bb882cb47",
   "metadata": {},
   "source": [
    "## 1. Check your AWS Account\n",
    "\n",
    "The account ID is a 12-digit number uniquely identify your account. You can find it on your AWS web console. Ideally, you would need to have admin access to your AWS account.\n",
    "\n",
    "Save the `<ACCOUNT_ID>` here: `REPLACE_ME`"
   ]
  },
  {
   "cell_type": "markdown",
   "id": "c090b42d-256d-4eae-9495-34e27e364c0c",
   "metadata": {},
   "source": [
    "## 2. Set up job role\n",
    "\n",
    "AWS role is a virtual identity that has specific permissions where its ID (called `ARN`) is in the format of `arn:aws:iam::<ACCOUNT_ID>:role/<ROLE>`. AWS batch requires a role to be created for running the jobs. This can be done from the IAM panel on the AWS web console. Depending on the type of service to use, separate roles may be created. A specific role is required for the Batch Service:\n",
    "\n",
    "- Trusted Entity Type: AWS Service\n",
    "- Use Case: Elastic Container Service\n",
    "    - Elastic Container Service Task\n",
    "- Permission Policies, search and add:\n",
    "    - AmazonECSTaskExecutionRolePolicy\n",
    "\n",
    "Once the role is created, one more permission is needed:\n",
    "- Go to: Permissions tab --> Add Permissions --> Create inline policy\n",
    "- Search for \"batch\"\n",
    "- Click on **Batch**\n",
    "- Select Read / Describe Jobs\n",
    "- Click Next\n",
    "- Add a policy name, e.g. \"Describe_Batch_Jobs\"\n",
    "- Click Create Policy\n",
    "\n",
    "Save the job hole here: `arn:aws:iam::<ACCOUNT_ID>:role/QuakeScopeBatchRole`"
   ]
  },
  {
   "cell_type": "markdown",
   "id": "4b6207ee-a802-4b00-a39e-675487887b2a",
   "metadata": {},
   "source": [
    "## 3. Set up an access key\n",
    "\n",
    "This can be done at the same IAM panel on the AWS web console. \n",
    "- Go to Users, select your user\n",
    "- Select Security credentials, Create access key\n",
    "- Use case: Command Line Inferface (CLI)\n",
    "\n",
    "Save the new access key to a safe place. Then configure the CLI in a terminal.\n",
    "\n",
    "```\n",
    "$ aws configure\n",
    "```\n",
    "Also verify the AWS CLI can use your access key.\n",
    "```\n",
    "$ aws configure list \n",
    "```"
   ]
  },
  {
   "cell_type": "markdown",
   "id": "b4e88c1e-b13d-49d5-bfc3-5fe5cc632731",
   "metadata": {},
   "source": [
    "## 4. List subnet and security group available"
   ]
  },
  {
   "cell_type": "code",
   "execution_count": null,
   "id": "9bfdf46b-baf0-464c-b577-e6bc84407c54",
   "metadata": {},
   "outputs": [],
   "source": [
    "print(\"List of subnet ID:\")\n",
    "! aws ec2 describe-subnets  | jq \".Subnets[] | .SubnetId\"\n",
    "\n",
    "print(\"=\"*20)\n",
    "print(\"List of security group ID:\")\n",
    "! aws ec2 describe-security-groups --filters \"Name=group-name,Values=default\" | jq \".SecurityGroups[0].GroupId\""
   ]
  },
  {
   "cell_type": "markdown",
   "id": "d57870a3-1a01-4b01-9e40-34f48f4ac0b3",
   "metadata": {},
   "source": [
    "## 5. Edit the config files and create computing environments\n",
    "\n",
    "In this step, we will pull information from the first three steps and fill into the config files. All configuration files are saved in **sb_catalog/configs**."
   ]
  },
  {
   "cell_type": "markdown",
   "id": "67335ba1-4390-42ad-830c-f187aed59449",
   "metadata": {},
   "source": [
    "### 5.1 Create a new compute environment\n",
    "- Edit the config file [compute_environment.yaml](../sb_catalog/configs/compute_environment.yaml)\n",
    "- Run the cell below.\n",
    "- Please add **all available subnets from Step 4**."
   ]
  },
  {
   "cell_type": "code",
   "execution_count": null,
   "id": "1449f337-2e27-47c6-a848-3c95e995ba1c",
   "metadata": {},
   "outputs": [],
   "source": [
    "! aws batch create-compute-environment --no-cli-pager --cli-input-yaml file://../sb_catalog/configs/compute_environment.yaml"
   ]
  },
  {
   "cell_type": "markdown",
   "id": "a11f5ced-ab88-4f21-9b1e-782ea91a95cd",
   "metadata": {},
   "source": [
    "### 5.2 Create a new job queue\n",
    "- Edit the config file [job_queue.yaml](../sb_catalog/configs/job_queue.yaml)\n",
    "- Run the cell below."
   ]
  },
  {
   "cell_type": "code",
   "execution_count": null,
   "id": "252bef0c-6680-42b0-bb0f-d168e1f5b485",
   "metadata": {},
   "outputs": [],
   "source": [
    "! aws batch create-job-queue --no-cli-pager --cli-input-yaml file://../sb_catalog/configs/job_queue.yaml"
   ]
  },
  {
   "cell_type": "markdown",
   "id": "191f3d64-8266-40bd-9d7c-78fe5d0a313d",
   "metadata": {},
   "source": [
    "### 5.3 Define the picking job\n",
    "- Edit the config file [job_definition_picking.yaml](../sb_catalog/configs/job_definition_picking.yaml)\n",
    "- Run the cell below."
   ]
  },
  {
   "cell_type": "code",
   "execution_count": null,
   "id": "f9b73c0e-febd-4a4b-b2c6-b9178df9a640",
   "metadata": {},
   "outputs": [],
   "source": [
    "! aws batch register-job-definition --no-cli-pager --cli-input-yaml file://../sb_catalog/configs/job_definition_picking.yaml"
   ]
  }
 ],
 "metadata": {
  "kernelspec": {
   "display_name": "Python 3 (ipykernel)",
   "language": "python",
   "name": "python3"
  },
  "language_info": {
   "codemirror_mode": {
    "name": "ipython",
    "version": 3
   },
   "file_extension": ".py",
   "mimetype": "text/x-python",
   "name": "python",
   "nbconvert_exporter": "python",
   "pygments_lexer": "ipython3",
   "version": "3.12.8"
  }
 },
 "nbformat": 4,
 "nbformat_minor": 5
}
